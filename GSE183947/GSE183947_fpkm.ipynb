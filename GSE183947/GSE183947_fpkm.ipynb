{
 "cells": [
  {
   "cell_type": "code",
   "execution_count": 1,
   "id": "494cee37-d1c8-4569-a05f-2b52b5ea97da",
   "metadata": {},
   "outputs": [],
   "source": [
    "import numpy as np\n",
    "import pandas as pd"
   ]
  },
  {
   "cell_type": "code",
   "execution_count": 55,
   "id": "af34565b-6635-40a2-aae8-571717cf9570",
   "metadata": {},
   "outputs": [],
   "source": [
    "df = pd.read_csv(\"GSE183947_fpkm.csv\", index_col=0)\n",
    "df = df.head(3)\n",
    "df = df.mean()\n",
    "df = pd.DataFrame(df).reset_index()\n",
    "df.columns = [\"Sample\",\"Mean\"]\n",
    "df.to_csv(\"GSE183947_fpkm_head_mean.csv\")"
   ]
  }
 ],
 "metadata": {
  "kernelspec": {
   "display_name": "Python 3 (ipykernel)",
   "language": "python",
   "name": "python3"
  },
  "language_info": {
   "codemirror_mode": {
    "name": "ipython",
    "version": 3
   },
   "file_extension": ".py",
   "mimetype": "text/x-python",
   "name": "python",
   "nbconvert_exporter": "python",
   "pygments_lexer": "ipython3",
   "version": "3.8.17"
  }
 },
 "nbformat": 4,
 "nbformat_minor": 5
}
