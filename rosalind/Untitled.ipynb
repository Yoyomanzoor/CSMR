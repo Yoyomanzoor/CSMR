{
 "cells": [
  {
   "cell_type": "code",
   "execution_count": 3,
   "id": "1773f810-a1e0-4e2c-bf11-fc7a958054b9",
   "metadata": {},
   "outputs": [],
   "source": [
    "f = open(\"untitled.txt\", \"r\").read()"
   ]
  },
  {
   "cell_type": "code",
   "execution_count": 11,
   "id": "9999281b-0768-4fc7-81aa-475a78c4331b",
   "metadata": {},
   "outputs": [
    {
     "data": {
      "text/plain": [
       "'Bravely bold Sir Robin rode forth from Camelot\\nYes, brave Sir Robin turned about\\nHe was not afraid to die, O brave Sir Robin\\nAnd gallantly he chickened out\\nHe was not at all afraid to be killed in nasty ways\\nBravely talking to his feet\\nBrave, brave, brave, brave Sir Robin\\nHe beat a very brave retreat'"
      ]
     },
     "execution_count": 11,
     "metadata": {},
     "output_type": "execute_result"
    }
   ],
   "source": [
    "f"
   ]
  },
  {
   "cell_type": "code",
   "execution_count": 12,
   "id": "01709303-4903-44ff-b897-1c73f057d2c2",
   "metadata": {},
   "outputs": [],
   "source": [
    "slist= f.split('\\n')"
   ]
  },
  {
   "cell_type": "code",
   "execution_count": 13,
   "id": "2a21282a-009a-43bc-87c1-874f12eb04fc",
   "metadata": {},
   "outputs": [],
   "source": [
    "a = ''"
   ]
  },
  {
   "cell_type": "code",
   "execution_count": 28,
   "id": "6ea2e142-16e2-40b9-8729-1298156387da",
   "metadata": {},
   "outputs": [
    {
     "data": {
      "text/plain": [
       "['Bravely bold Sir Robin rode forth from Camelot',\n",
       " 'Yes, brave Sir Robin turned about',\n",
       " 'He was not afraid to die, O brave Sir Robin',\n",
       " 'And gallantly he chickened out',\n",
       " 'He was not at all afraid to be killed in nasty ways',\n",
       " 'Bravely talking to his feet',\n",
       " 'Brave, brave, brave, brave Sir Robin',\n",
       " 'He beat a very brave retreat']"
      ]
     },
     "execution_count": 28,
     "metadata": {},
     "output_type": "execute_result"
    }
   ],
   "source": [
    "slist"
   ]
  },
  {
   "cell_type": "code",
   "execution_count": 14,
   "id": "06f270ec-9dd7-44ce-becd-0f4697b92d5d",
   "metadata": {},
   "outputs": [
    {
     "data": {
      "text/plain": [
       "8"
      ]
     },
     "execution_count": 14,
     "metadata": {},
     "output_type": "execute_result"
    }
   ],
   "source": [
    "len(slist)"
   ]
  },
  {
   "cell_type": "code",
   "execution_count": 15,
   "id": "88c0695c-0d5a-4111-83f2-24d5c700c59f",
   "metadata": {},
   "outputs": [],
   "source": [
    "for line in range(len(slist)):\n",
    "    if line % 2 == 1:\n",
    "        a += slist[line] + '\\n'"
   ]
  },
  {
   "cell_type": "code",
   "execution_count": 34,
   "id": "04fd4ba9-8ff3-424d-9dc7-e14b34e5a35c",
   "metadata": {},
   "outputs": [
    {
     "data": {
      "text/plain": [
       "'Yes, brave Sir Robin turned about\\nAnd gallantly he chickened out\\nBravely talking to his feet\\nHe beat a very brave retreat'"
      ]
     },
     "execution_count": 34,
     "metadata": {},
     "output_type": "execute_result"
    }
   ],
   "source": [
    "\"\\n\".join([slist[i] for i in range(len(slist)) if i % 2 == 1])"
   ]
  },
  {
   "cell_type": "code",
   "execution_count": null,
   "id": "f4134ebb-92f7-4c3f-8578-2e394df80ca2",
   "metadata": {},
   "outputs": [],
   "source": []
  },
  {
   "cell_type": "code",
   "execution_count": null,
   "id": "a240e58b-cc24-4f11-a89e-907e574fe78c",
   "metadata": {},
   "outputs": [],
   "source": []
  },
  {
   "cell_type": "code",
   "execution_count": 17,
   "id": "ef8b96eb-c0f8-4329-8999-c41ebd16666f",
   "metadata": {},
   "outputs": [
    {
     "data": {
      "text/plain": [
       "122"
      ]
     },
     "execution_count": 17,
     "metadata": {},
     "output_type": "execute_result"
    }
   ],
   "source": [
    "open(\"output.txt\", \"w\").write(a)"
   ]
  },
  {
   "cell_type": "code",
   "execution_count": null,
   "id": "ec554086-4fce-4200-9698-6182370bad05",
   "metadata": {},
   "outputs": [],
   "source": []
  },
  {
   "cell_type": "code",
   "execution_count": null,
   "id": "4d2f68a0-b049-4ce4-9593-f1fd938c89ea",
   "metadata": {},
   "outputs": [],
   "source": []
  },
  {
   "cell_type": "code",
   "execution_count": 21,
   "id": "3bd60976-22e8-47a9-ab32-3d882edbec36",
   "metadata": {},
   "outputs": [
    {
     "data": {
      "text/plain": [
       "'Bravely bold Sir Robin rode forth from Camelot\\nYes, brave Sir Robin turned about\\nHe was not afraid to die, O brave Sir Robin\\nAnd gallantly he chickened out\\nHe was not at all afraid to be killed in nasty ways\\nBravely talking to his feet\\nBrave, brave, brave, brave Sir Robin\\nHe beat a very brave retreat'"
      ]
     },
     "execution_count": 21,
     "metadata": {},
     "output_type": "execute_result"
    }
   ],
   "source": [
    "f"
   ]
  },
  {
   "cell_type": "code",
   "execution_count": 27,
   "id": "489a1a9d-51cb-4aab-bbd6-fd957e7f34b5",
   "metadata": {},
   "outputs": [
    {
     "data": {
      "text/plain": [
       "58"
      ]
     },
     "execution_count": 27,
     "metadata": {},
     "output_type": "execute_result"
    }
   ],
   "source": [
    "len(\" \".join(f.split(\"\\n\")).split(\" \"))"
   ]
  }
 ],
 "metadata": {
  "kernelspec": {
   "display_name": "Python 3 (ipykernel)",
   "language": "python",
   "name": "python3"
  },
  "language_info": {
   "codemirror_mode": {
    "name": "ipython",
    "version": 3
   },
   "file_extension": ".py",
   "mimetype": "text/x-python",
   "name": "python",
   "nbconvert_exporter": "python",
   "pygments_lexer": "ipython3",
   "version": "3.8.17"
  }
 },
 "nbformat": 4,
 "nbformat_minor": 5
}
