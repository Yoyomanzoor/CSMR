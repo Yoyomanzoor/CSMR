{
 "cells": [
  {
   "cell_type": "code",
   "execution_count": 1,
   "id": "9bf90ce6-8380-4da9-b7d1-7a79a84ebc26",
   "metadata": {
    "tags": []
   },
   "outputs": [],
   "source": [
    "import numpy as np\n",
    "import pandas as pd"
   ]
  },
  {
   "cell_type": "code",
   "execution_count": 2,
   "id": "582d43d5-ae93-4461-87b3-b3b2400fa277",
   "metadata": {
    "tags": []
   },
   "outputs": [],
   "source": [
    "WT_1 = pd.read_csv(\"GSM2086001_wt-1.txt\", sep=\"\\t\", header=None, names=[\"gene\", \"WT_1\"])\n",
    "WT_2 = pd.read_csv(\"GSM2086002_wt-2.txt\", sep=\"\\t\", header=None, names=[\"gene\", \"WT_2\"])\n",
    "WT_3 = pd.read_csv(\"GSM2086003_wt-3.txt\", sep=\"\\t\", header=None, names=[\"gene\", \"WT_3\"])\n",
    "\n",
    "KO_1 = pd.read_csv(\"GSM2085998_DBL-cKO-1.txt\", sep=\"\\t\", header=None, names=[\"gene\", \"KO_1\"])\n",
    "KO_2 = pd.read_csv(\"GSM2085999_DBL-cKO-2.txt\", sep=\"\\t\", header=None, names=[\"gene\", \"KO_2\"])\n",
    "KO_3 = pd.read_csv(\"GSM2086000_DBL-cKO-3.txt\", sep=\"\\t\", header=None, names=[\"gene\", \"KO_3\"])"
   ]
  },
  {
   "cell_type": "code",
   "execution_count": 3,
   "id": "112bcfc5-4d73-4f9c-858f-f9028fb527db",
   "metadata": {
    "tags": []
   },
   "outputs": [
    {
     "data": {
      "text/html": [
       "<div>\n",
       "<style scoped>\n",
       "    .dataframe tbody tr th:only-of-type {\n",
       "        vertical-align: middle;\n",
       "    }\n",
       "\n",
       "    .dataframe tbody tr th {\n",
       "        vertical-align: top;\n",
       "    }\n",
       "\n",
       "    .dataframe thead th {\n",
       "        text-align: right;\n",
       "    }\n",
       "</style>\n",
       "<table border=\"1\" class=\"dataframe\">\n",
       "  <thead>\n",
       "    <tr style=\"text-align: right;\">\n",
       "      <th></th>\n",
       "      <th>gene</th>\n",
       "      <th>WT_1</th>\n",
       "      <th>WT_2</th>\n",
       "      <th>WT_3</th>\n",
       "      <th>KO_1</th>\n",
       "      <th>KO_2</th>\n",
       "      <th>KO_3</th>\n",
       "    </tr>\n",
       "  </thead>\n",
       "  <tbody>\n",
       "    <tr>\n",
       "      <th>0</th>\n",
       "      <td>0610005C13Rik</td>\n",
       "      <td>4</td>\n",
       "      <td>4</td>\n",
       "      <td>0</td>\n",
       "      <td>0</td>\n",
       "      <td>0</td>\n",
       "      <td>3</td>\n",
       "    </tr>\n",
       "    <tr>\n",
       "      <th>1</th>\n",
       "      <td>0610007P14Rik</td>\n",
       "      <td>3825</td>\n",
       "      <td>3389</td>\n",
       "      <td>3782</td>\n",
       "      <td>1666</td>\n",
       "      <td>1244</td>\n",
       "      <td>1512</td>\n",
       "    </tr>\n",
       "    <tr>\n",
       "      <th>2</th>\n",
       "      <td>0610009B22Rik</td>\n",
       "      <td>1025</td>\n",
       "      <td>838</td>\n",
       "      <td>961</td>\n",
       "      <td>782</td>\n",
       "      <td>462</td>\n",
       "      <td>628</td>\n",
       "    </tr>\n",
       "    <tr>\n",
       "      <th>3</th>\n",
       "      <td>0610009L18Rik</td>\n",
       "      <td>124</td>\n",
       "      <td>99</td>\n",
       "      <td>159</td>\n",
       "      <td>141</td>\n",
       "      <td>68</td>\n",
       "      <td>130</td>\n",
       "    </tr>\n",
       "    <tr>\n",
       "      <th>4</th>\n",
       "      <td>0610009O20Rik</td>\n",
       "      <td>2236</td>\n",
       "      <td>1969</td>\n",
       "      <td>1710</td>\n",
       "      <td>1513</td>\n",
       "      <td>1299</td>\n",
       "      <td>1482</td>\n",
       "    </tr>\n",
       "  </tbody>\n",
       "</table>\n",
       "</div>"
      ],
      "text/plain": [
       "            gene  WT_1  WT_2  WT_3  KO_1  KO_2  KO_3\n",
       "0  0610005C13Rik     4     4     0     0     0     3\n",
       "1  0610007P14Rik  3825  3389  3782  1666  1244  1512\n",
       "2  0610009B22Rik  1025   838   961   782   462   628\n",
       "3  0610009L18Rik   124    99   159   141    68   130\n",
       "4  0610009O20Rik  2236  1969  1710  1513  1299  1482"
      ]
     },
     "execution_count": 3,
     "metadata": {},
     "output_type": "execute_result"
    }
   ],
   "source": [
    "# One way of doing this, is inefficient if many samples\n",
    "pd.DataFrame({\"gene\":WT_1[\"gene\"],\"WT_1\":WT_1[\"WT_1\"],\"WT_2\":WT_2[\"WT_2\"],\"WT_3\":WT_3[\"WT_3\"],\"KO_1\":KO_1[\"KO_1\"],\"KO_2\":KO_2[\"KO_2\"],\"KO_3\":KO_3[\"KO_3\"]}).head()"
   ]
  },
  {
   "cell_type": "code",
   "execution_count": 4,
   "id": "a59af368-9cab-41bb-95a9-412f558b4100",
   "metadata": {
    "tags": []
   },
   "outputs": [],
   "source": [
    "def checkEqual(x):\n",
    "    def cE(a):\n",
    "        return([sum(a[0][\"gene\"] == a[i+1][\"gene\"]) == len(a[0]) for i in range(len(a)-1)])\n",
    "    return(sum(cE(x)) == len(x)-1)\n",
    "\n",
    "def merger(a):\n",
    "    # Check if all gene names are the same on all dataframes\n",
    "    if checkEqual(a):\n",
    "        df = a[0]\n",
    "        for i in range(1,len(a)):\n",
    "            df = pd.merge(df, a[i], on=\"gene\")\n",
    "        return(df)\n",
    "    else:\n",
    "        print(\"Not same gene list length\")"
   ]
  },
  {
   "cell_type": "code",
   "execution_count": 5,
   "id": "80e0329b-49dd-4ae3-9542-f7e4d1537bab",
   "metadata": {
    "tags": []
   },
   "outputs": [],
   "source": [
    "df = merger([WT_1, WT_2, WT_3, KO_1, KO_2, KO_3])\n",
    "df.set_index(\"gene\", inplace=True)"
   ]
  },
  {
   "cell_type": "code",
   "execution_count": 6,
   "id": "7cefbef2-75dd-4e86-8f99-959448c0ab76",
   "metadata": {
    "tags": []
   },
   "outputs": [
    {
     "data": {
      "text/html": [
       "<div>\n",
       "<style scoped>\n",
       "    .dataframe tbody tr th:only-of-type {\n",
       "        vertical-align: middle;\n",
       "    }\n",
       "\n",
       "    .dataframe tbody tr th {\n",
       "        vertical-align: top;\n",
       "    }\n",
       "\n",
       "    .dataframe thead th {\n",
       "        text-align: right;\n",
       "    }\n",
       "</style>\n",
       "<table border=\"1\" class=\"dataframe\">\n",
       "  <thead>\n",
       "    <tr style=\"text-align: right;\">\n",
       "      <th></th>\n",
       "      <th>WT_1</th>\n",
       "      <th>WT_2</th>\n",
       "      <th>WT_3</th>\n",
       "      <th>KO_1</th>\n",
       "      <th>KO_2</th>\n",
       "      <th>KO_3</th>\n",
       "    </tr>\n",
       "    <tr>\n",
       "      <th>gene</th>\n",
       "      <th></th>\n",
       "      <th></th>\n",
       "      <th></th>\n",
       "      <th></th>\n",
       "      <th></th>\n",
       "      <th></th>\n",
       "    </tr>\n",
       "  </thead>\n",
       "  <tbody>\n",
       "    <tr>\n",
       "      <th>0610005C13Rik</th>\n",
       "      <td>4</td>\n",
       "      <td>4</td>\n",
       "      <td>0</td>\n",
       "      <td>0</td>\n",
       "      <td>0</td>\n",
       "      <td>3</td>\n",
       "    </tr>\n",
       "    <tr>\n",
       "      <th>0610007P14Rik</th>\n",
       "      <td>3825</td>\n",
       "      <td>3389</td>\n",
       "      <td>3782</td>\n",
       "      <td>1666</td>\n",
       "      <td>1244</td>\n",
       "      <td>1512</td>\n",
       "    </tr>\n",
       "    <tr>\n",
       "      <th>0610009B22Rik</th>\n",
       "      <td>1025</td>\n",
       "      <td>838</td>\n",
       "      <td>961</td>\n",
       "      <td>782</td>\n",
       "      <td>462</td>\n",
       "      <td>628</td>\n",
       "    </tr>\n",
       "    <tr>\n",
       "      <th>0610009L18Rik</th>\n",
       "      <td>124</td>\n",
       "      <td>99</td>\n",
       "      <td>159</td>\n",
       "      <td>141</td>\n",
       "      <td>68</td>\n",
       "      <td>130</td>\n",
       "    </tr>\n",
       "    <tr>\n",
       "      <th>0610009O20Rik</th>\n",
       "      <td>2236</td>\n",
       "      <td>1969</td>\n",
       "      <td>1710</td>\n",
       "      <td>1513</td>\n",
       "      <td>1299</td>\n",
       "      <td>1482</td>\n",
       "    </tr>\n",
       "  </tbody>\n",
       "</table>\n",
       "</div>"
      ],
      "text/plain": [
       "               WT_1  WT_2  WT_3  KO_1  KO_2  KO_3\n",
       "gene                                             \n",
       "0610005C13Rik     4     4     0     0     0     3\n",
       "0610007P14Rik  3825  3389  3782  1666  1244  1512\n",
       "0610009B22Rik  1025   838   961   782   462   628\n",
       "0610009L18Rik   124    99   159   141    68   130\n",
       "0610009O20Rik  2236  1969  1710  1513  1299  1482"
      ]
     },
     "execution_count": 6,
     "metadata": {},
     "output_type": "execute_result"
    }
   ],
   "source": [
    "df.head()"
   ]
  },
  {
   "cell_type": "code",
   "execution_count": 7,
   "id": "d3faefd5-754f-4a22-a7b6-1ff135c45d34",
   "metadata": {
    "tags": []
   },
   "outputs": [],
   "source": [
    "df = df.head(3)\n",
    "df = df.mean(numeric_only=None)\n",
    "df = pd.DataFrame(df).reset_index()\n",
    "df.columns = [\"Sample\",\"Mean\"]\n",
    "df.to_csv(\"GSE79115_head_mean.csv\")"
   ]
  }
 ],
 "metadata": {
  "kernelspec": {
   "display_name": "Python 3 (ipykernel)",
   "language": "python",
   "name": "python3"
  },
  "language_info": {
   "codemirror_mode": {
    "name": "ipython",
    "version": 3
   },
   "file_extension": ".py",
   "mimetype": "text/x-python",
   "name": "python",
   "nbconvert_exporter": "python",
   "pygments_lexer": "ipython3",
   "version": "3.8.17"
  }
 },
 "nbformat": 4,
 "nbformat_minor": 5
}
