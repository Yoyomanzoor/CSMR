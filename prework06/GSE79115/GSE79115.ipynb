{
 "cells": [
  {
   "cell_type": "code",
   "execution_count": 1,
   "id": "9bf90ce6-8380-4da9-b7d1-7a79a84ebc26",
   "metadata": {},
   "outputs": [],
   "source": [
    "import numpy as np\n",
    "import pandas as pd"
   ]
  },
  {
   "cell_type": "code",
   "execution_count": 76,
   "id": "582d43d5-ae93-4461-87b3-b3b2400fa277",
   "metadata": {},
   "outputs": [],
   "source": [
    "WT_1 = pd.read_csv(\"GSM2086001_wt-1.txt\", sep=\"\\t\", header=None, names=[\"gene\", \"WT_1\"])\n",
    "WT_2 = pd.read_csv(\"GSM2086002_wt-2.txt\", sep=\"\\t\", header=None, names=[\"gene\", \"WT_2\"])\n",
    "WT_3 = pd.read_csv(\"GSM2086003_wt-3.txt\", sep=\"\\t\", header=None, names=[\"gene\", \"WT_3\"])\n",
    "\n",
    "KO_1 = pd.read_csv(\"GSM2085998_DBL-cKO-1.txt\", sep=\"\\t\", header=None, names=[\"gene\", \"KO_1\"])\n",
    "KO_2 = pd.read_csv(\"GSM2085999_DBL-cKO-2.txt\", sep=\"\\t\", header=None, names=[\"gene\", \"KO_2\"])\n",
    "KO_3 = pd.read_csv(\"GSM2086000_DBL-cKO-3.txt\", sep=\"\\t\", header=None, names=[\"gene\", \"KO_3\"])"
   ]
  },
  {
   "cell_type": "code",
   "execution_count": 64,
   "id": "112bcfc5-4d73-4f9c-858f-f9028fb527db",
   "metadata": {
    "collapsed": true,
    "jupyter": {
     "outputs_hidden": true
    },
    "tags": []
   },
   "outputs": [
    {
     "data": {
      "text/html": [
       "<div>\n",
       "<style scoped>\n",
       "    .dataframe tbody tr th:only-of-type {\n",
       "        vertical-align: middle;\n",
       "    }\n",
       "\n",
       "    .dataframe tbody tr th {\n",
       "        vertical-align: top;\n",
       "    }\n",
       "\n",
       "    .dataframe thead th {\n",
       "        text-align: right;\n",
       "    }\n",
       "</style>\n",
       "<table border=\"1\" class=\"dataframe\">\n",
       "  <thead>\n",
       "    <tr style=\"text-align: right;\">\n",
       "      <th></th>\n",
       "      <th>gene</th>\n",
       "      <th>WT_1</th>\n",
       "      <th>WT_2</th>\n",
       "    </tr>\n",
       "  </thead>\n",
       "  <tbody>\n",
       "    <tr>\n",
       "      <th>0</th>\n",
       "      <td>0610005C13Rik</td>\n",
       "      <td>4</td>\n",
       "      <td>4</td>\n",
       "    </tr>\n",
       "    <tr>\n",
       "      <th>1</th>\n",
       "      <td>0610007P14Rik</td>\n",
       "      <td>3825</td>\n",
       "      <td>3389</td>\n",
       "    </tr>\n",
       "    <tr>\n",
       "      <th>2</th>\n",
       "      <td>0610009B22Rik</td>\n",
       "      <td>1025</td>\n",
       "      <td>838</td>\n",
       "    </tr>\n",
       "    <tr>\n",
       "      <th>3</th>\n",
       "      <td>0610009L18Rik</td>\n",
       "      <td>124</td>\n",
       "      <td>99</td>\n",
       "    </tr>\n",
       "    <tr>\n",
       "      <th>4</th>\n",
       "      <td>0610009O20Rik</td>\n",
       "      <td>2236</td>\n",
       "      <td>1969</td>\n",
       "    </tr>\n",
       "    <tr>\n",
       "      <th>...</th>\n",
       "      <td>...</td>\n",
       "      <td>...</td>\n",
       "      <td>...</td>\n",
       "    </tr>\n",
       "    <tr>\n",
       "      <th>24421</th>\n",
       "      <td>__no_feature</td>\n",
       "      <td>6612844</td>\n",
       "      <td>5842166</td>\n",
       "    </tr>\n",
       "    <tr>\n",
       "      <th>24422</th>\n",
       "      <td>__ambiguous</td>\n",
       "      <td>1121962</td>\n",
       "      <td>906484</td>\n",
       "    </tr>\n",
       "    <tr>\n",
       "      <th>24423</th>\n",
       "      <td>__too_low_aQual</td>\n",
       "      <td>0</td>\n",
       "      <td>0</td>\n",
       "    </tr>\n",
       "    <tr>\n",
       "      <th>24424</th>\n",
       "      <td>__not_aligned</td>\n",
       "      <td>0</td>\n",
       "      <td>0</td>\n",
       "    </tr>\n",
       "    <tr>\n",
       "      <th>24425</th>\n",
       "      <td>__alignment_not_unique</td>\n",
       "      <td>0</td>\n",
       "      <td>0</td>\n",
       "    </tr>\n",
       "  </tbody>\n",
       "</table>\n",
       "<p>24426 rows × 3 columns</p>\n",
       "</div>"
      ],
      "text/plain": [
       "                         gene     WT_1     WT_2\n",
       "0               0610005C13Rik        4        4\n",
       "1               0610007P14Rik     3825     3389\n",
       "2               0610009B22Rik     1025      838\n",
       "3               0610009L18Rik      124       99\n",
       "4               0610009O20Rik     2236     1969\n",
       "...                       ...      ...      ...\n",
       "24421            __no_feature  6612844  5842166\n",
       "24422             __ambiguous  1121962   906484\n",
       "24423         __too_low_aQual        0        0\n",
       "24424           __not_aligned        0        0\n",
       "24425  __alignment_not_unique        0        0\n",
       "\n",
       "[24426 rows x 3 columns]"
      ]
     },
     "execution_count": 64,
     "metadata": {},
     "output_type": "execute_result"
    }
   ],
   "source": [
    "# One way of doing this, is inefficient if many samples\n",
    "pd.DataFrame({\"gene\":WT_1[\"gene\"],\"WT_1\":WT_1[\"WT_1\"],\"WT_2\":WT_2[\"WT_2\"]})"
   ]
  },
  {
   "cell_type": "code",
   "execution_count": 68,
   "id": "a59af368-9cab-41bb-95a9-412f558b4100",
   "metadata": {},
   "outputs": [],
   "source": [
    "def checkEqual(x):\n",
    "    def cE(a):\n",
    "        return([sum(a[0][\"gene\"] == a[i+1][\"gene\"]) == len(a[0]) for i in range(len(a)-1)])\n",
    "    return(sum(cE(x)) == len(x)-1)\n",
    "\n",
    "def merger(a):\n",
    "    # Check if all gene names are the same on all dataframes\n",
    "    if checkEqual(a):\n",
    "        init = a[0]\n",
    "        for i in range(len(a)):\n",
    "            if i == 0:\n",
    "                df = init\n",
    "            else:\n",
    "                df = pd.merge(df, a[i], on=\"gene\")\n",
    "        return(df)\n",
    "    else:\n",
    "        print(\"Not same gene list length\")"
   ]
  },
  {
   "cell_type": "code",
   "execution_count": 77,
   "id": "80e0329b-49dd-4ae3-9542-f7e4d1537bab",
   "metadata": {},
   "outputs": [],
   "source": [
    "df = merger([WT_1, WT_2, WT_3, KO_1, KO_2, KO_3])"
   ]
  },
  {
   "cell_type": "code",
   "execution_count": 78,
   "id": "7cefbef2-75dd-4e86-8f99-959448c0ab76",
   "metadata": {},
   "outputs": [
    {
     "data": {
      "text/html": [
       "<div>\n",
       "<style scoped>\n",
       "    .dataframe tbody tr th:only-of-type {\n",
       "        vertical-align: middle;\n",
       "    }\n",
       "\n",
       "    .dataframe tbody tr th {\n",
       "        vertical-align: top;\n",
       "    }\n",
       "\n",
       "    .dataframe thead th {\n",
       "        text-align: right;\n",
       "    }\n",
       "</style>\n",
       "<table border=\"1\" class=\"dataframe\">\n",
       "  <thead>\n",
       "    <tr style=\"text-align: right;\">\n",
       "      <th></th>\n",
       "      <th>gene</th>\n",
       "      <th>WT_1</th>\n",
       "      <th>WT_2</th>\n",
       "      <th>WT_3</th>\n",
       "      <th>KO_1</th>\n",
       "      <th>KO_2</th>\n",
       "      <th>KO_3</th>\n",
       "    </tr>\n",
       "  </thead>\n",
       "  <tbody>\n",
       "    <tr>\n",
       "      <th>0</th>\n",
       "      <td>0610005C13Rik</td>\n",
       "      <td>4</td>\n",
       "      <td>4</td>\n",
       "      <td>0</td>\n",
       "      <td>0</td>\n",
       "      <td>0</td>\n",
       "      <td>3</td>\n",
       "    </tr>\n",
       "    <tr>\n",
       "      <th>1</th>\n",
       "      <td>0610007P14Rik</td>\n",
       "      <td>3825</td>\n",
       "      <td>3389</td>\n",
       "      <td>3782</td>\n",
       "      <td>1666</td>\n",
       "      <td>1244</td>\n",
       "      <td>1512</td>\n",
       "    </tr>\n",
       "    <tr>\n",
       "      <th>2</th>\n",
       "      <td>0610009B22Rik</td>\n",
       "      <td>1025</td>\n",
       "      <td>838</td>\n",
       "      <td>961</td>\n",
       "      <td>782</td>\n",
       "      <td>462</td>\n",
       "      <td>628</td>\n",
       "    </tr>\n",
       "    <tr>\n",
       "      <th>3</th>\n",
       "      <td>0610009L18Rik</td>\n",
       "      <td>124</td>\n",
       "      <td>99</td>\n",
       "      <td>159</td>\n",
       "      <td>141</td>\n",
       "      <td>68</td>\n",
       "      <td>130</td>\n",
       "    </tr>\n",
       "    <tr>\n",
       "      <th>4</th>\n",
       "      <td>0610009O20Rik</td>\n",
       "      <td>2236</td>\n",
       "      <td>1969</td>\n",
       "      <td>1710</td>\n",
       "      <td>1513</td>\n",
       "      <td>1299</td>\n",
       "      <td>1482</td>\n",
       "    </tr>\n",
       "  </tbody>\n",
       "</table>\n",
       "</div>"
      ],
      "text/plain": [
       "            gene  WT_1  WT_2  WT_3  KO_1  KO_2  KO_3\n",
       "0  0610005C13Rik     4     4     0     0     0     3\n",
       "1  0610007P14Rik  3825  3389  3782  1666  1244  1512\n",
       "2  0610009B22Rik  1025   838   961   782   462   628\n",
       "3  0610009L18Rik   124    99   159   141    68   130\n",
       "4  0610009O20Rik  2236  1969  1710  1513  1299  1482"
      ]
     },
     "execution_count": 78,
     "metadata": {},
     "output_type": "execute_result"
    }
   ],
   "source": [
    "df.head()"
   ]
  },
  {
   "cell_type": "code",
   "execution_count": 79,
   "id": "d3faefd5-754f-4a22-a7b6-1ff135c45d34",
   "metadata": {},
   "outputs": [
    {
     "name": "stderr",
     "output_type": "stream",
     "text": [
      "/tmp/ipykernel_17099/1741255696.py:2: FutureWarning: The default value of numeric_only in DataFrame.mean is deprecated. In a future version, it will default to False. In addition, specifying 'numeric_only=None' is deprecated. Select only valid columns or specify the value of numeric_only to silence this warning.\n",
      "  df = df.mean()\n"
     ]
    }
   ],
   "source": [
    "df = df.head(3)\n",
    "df = df.mean()\n",
    "df = pd.DataFrame(df).reset_index()\n",
    "df.columns = [\"Sample\",\"Mean\"]\n",
    "df.to_csv(\"GSE79115_head_mean.csv\")"
   ]
  }
 ],
 "metadata": {
  "kernelspec": {
   "display_name": "Python 3 (ipykernel)",
   "language": "python",
   "name": "python3"
  },
  "language_info": {
   "codemirror_mode": {
    "name": "ipython",
    "version": 3
   },
   "file_extension": ".py",
   "mimetype": "text/x-python",
   "name": "python",
   "nbconvert_exporter": "python",
   "pygments_lexer": "ipython3",
   "version": "3.8.17"
  }
 },
 "nbformat": 4,
 "nbformat_minor": 5
}
