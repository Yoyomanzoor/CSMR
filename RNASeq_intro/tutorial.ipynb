{
 "cells": [
  {
   "cell_type": "markdown",
   "id": "d087e205-650d-4642-8fa6-f13ff73c0b99",
   "metadata": {},
   "source": [
    "# DESeq2 in python\n",
    "##### Sumeed Manzoor<br>University of Michigan Medical School"
   ]
  },
  {
   "cell_type": "markdown",
   "id": "b0bec0b0-a121-4a0f-9eed-8657cafafaea",
   "metadata": {},
   "source": [
    "This is a walkthrough of the pydeseq2 docs + some visualization work. I did not have time to write out each step, so I included links in comments throughout the code where you can read more details for any particular process."
   ]
  },
  {
   "cell_type": "code",
   "execution_count": 215,
   "id": "01f5d9f6-4c8e-4cca-81a8-3baa6195113a",
   "metadata": {},
   "outputs": [],
   "source": [
    "# https://github.com/owkin/PyDESeq2\n",
    "# https://pydeseq2.readthedocs.io/en/latest/auto_examples/plot_minimal_pydeseq2_pipeline.html#sphx-glr-auto-examples-plot-minimal-pydeseq2-pipeline-py"
   ]
  },
  {
   "cell_type": "code",
   "execution_count": 5,
   "id": "458d2272-6f27-42c5-b9af-b2ed2f12a94c",
   "metadata": {},
   "outputs": [],
   "source": [
    "import os\n",
    "import pickle as pkl"
   ]
  },
  {
   "cell_type": "code",
   "execution_count": 6,
   "id": "b0927a28-bef4-4acd-8d45-a11fc7549215",
   "metadata": {},
   "outputs": [],
   "source": [
    "from pydeseq2.dds import DeseqDataSet\n",
    "from pydeseq2.ds import DeseqStats\n",
    "from pydeseq2.utils import load_example_data"
   ]
  },
  {
   "cell_type": "code",
   "execution_count": 7,
   "id": "fb8336b9-c3a7-4e47-b587-464d36face38",
   "metadata": {},
   "outputs": [],
   "source": [
    "SAVE = False  # whether to save the outputs of this notebook\n",
    "\n",
    "if SAVE:\n",
    "    # Replace this with the path to directory where you would like results to be\n",
    "    # saved\n",
    "    OUTPUT_PATH = \"../output_files/synthetic_example\"\n",
    "    os.makedirs(OUTPUT_PATH, exist_ok=True)  # Create path if it doesn't exist"
   ]
  },
  {
   "cell_type": "code",
   "execution_count": 8,
   "id": "d294e771-76ec-494e-8fcd-49d4e64b9fe8",
   "metadata": {},
   "outputs": [],
   "source": [
    "counts_df = load_example_data(\n",
    "    modality=\"raw_counts\",\n",
    "    dataset=\"synthetic\",\n",
    "    debug=False,\n",
    ")\n",
    "\n",
    "metadata = load_example_data(\n",
    "    modality=\"metadata\",\n",
    "    dataset=\"synthetic\",\n",
    "    debug=False,\n",
    ")"
   ]
  },
  {
   "cell_type": "code",
   "execution_count": 9,
   "id": "bd30bb08-3355-4039-8f26-94b19ec8e02d",
   "metadata": {},
   "outputs": [
    {
     "data": {
      "text/html": [
       "<div>\n",
       "<style scoped>\n",
       "    .dataframe tbody tr th:only-of-type {\n",
       "        vertical-align: middle;\n",
       "    }\n",
       "\n",
       "    .dataframe tbody tr th {\n",
       "        vertical-align: top;\n",
       "    }\n",
       "\n",
       "    .dataframe thead th {\n",
       "        text-align: right;\n",
       "    }\n",
       "</style>\n",
       "<table border=\"1\" class=\"dataframe\">\n",
       "  <thead>\n",
       "    <tr style=\"text-align: right;\">\n",
       "      <th></th>\n",
       "      <th>gene1</th>\n",
       "      <th>gene2</th>\n",
       "      <th>gene3</th>\n",
       "      <th>gene4</th>\n",
       "      <th>gene5</th>\n",
       "      <th>gene6</th>\n",
       "      <th>gene7</th>\n",
       "      <th>gene8</th>\n",
       "      <th>gene9</th>\n",
       "      <th>gene10</th>\n",
       "    </tr>\n",
       "  </thead>\n",
       "  <tbody>\n",
       "    <tr>\n",
       "      <th>sample1</th>\n",
       "      <td>12</td>\n",
       "      <td>21</td>\n",
       "      <td>4</td>\n",
       "      <td>130</td>\n",
       "      <td>18</td>\n",
       "      <td>0</td>\n",
       "      <td>16</td>\n",
       "      <td>54</td>\n",
       "      <td>49</td>\n",
       "      <td>3</td>\n",
       "    </tr>\n",
       "    <tr>\n",
       "      <th>sample2</th>\n",
       "      <td>1</td>\n",
       "      <td>44</td>\n",
       "      <td>2</td>\n",
       "      <td>63</td>\n",
       "      <td>11</td>\n",
       "      <td>10</td>\n",
       "      <td>70</td>\n",
       "      <td>32</td>\n",
       "      <td>57</td>\n",
       "      <td>9</td>\n",
       "    </tr>\n",
       "    <tr>\n",
       "      <th>sample3</th>\n",
       "      <td>4</td>\n",
       "      <td>4</td>\n",
       "      <td>11</td>\n",
       "      <td>180</td>\n",
       "      <td>21</td>\n",
       "      <td>3</td>\n",
       "      <td>28</td>\n",
       "      <td>34</td>\n",
       "      <td>65</td>\n",
       "      <td>2</td>\n",
       "    </tr>\n",
       "    <tr>\n",
       "      <th>sample4</th>\n",
       "      <td>1</td>\n",
       "      <td>10</td>\n",
       "      <td>2</td>\n",
       "      <td>100</td>\n",
       "      <td>44</td>\n",
       "      <td>9</td>\n",
       "      <td>28</td>\n",
       "      <td>16</td>\n",
       "      <td>33</td>\n",
       "      <td>9</td>\n",
       "    </tr>\n",
       "    <tr>\n",
       "      <th>sample5</th>\n",
       "      <td>1</td>\n",
       "      <td>11</td>\n",
       "      <td>6</td>\n",
       "      <td>135</td>\n",
       "      <td>16</td>\n",
       "      <td>2</td>\n",
       "      <td>32</td>\n",
       "      <td>29</td>\n",
       "      <td>31</td>\n",
       "      <td>5</td>\n",
       "    </tr>\n",
       "    <tr>\n",
       "      <th>...</th>\n",
       "      <td>...</td>\n",
       "      <td>...</td>\n",
       "      <td>...</td>\n",
       "      <td>...</td>\n",
       "      <td>...</td>\n",
       "      <td>...</td>\n",
       "      <td>...</td>\n",
       "      <td>...</td>\n",
       "      <td>...</td>\n",
       "      <td>...</td>\n",
       "    </tr>\n",
       "    <tr>\n",
       "      <th>sample96</th>\n",
       "      <td>7</td>\n",
       "      <td>26</td>\n",
       "      <td>3</td>\n",
       "      <td>67</td>\n",
       "      <td>11</td>\n",
       "      <td>4</td>\n",
       "      <td>41</td>\n",
       "      <td>44</td>\n",
       "      <td>54</td>\n",
       "      <td>1</td>\n",
       "    </tr>\n",
       "    <tr>\n",
       "      <th>sample97</th>\n",
       "      <td>1</td>\n",
       "      <td>14</td>\n",
       "      <td>3</td>\n",
       "      <td>71</td>\n",
       "      <td>33</td>\n",
       "      <td>5</td>\n",
       "      <td>19</td>\n",
       "      <td>42</td>\n",
       "      <td>25</td>\n",
       "      <td>4</td>\n",
       "    </tr>\n",
       "    <tr>\n",
       "      <th>sample98</th>\n",
       "      <td>10</td>\n",
       "      <td>36</td>\n",
       "      <td>2</td>\n",
       "      <td>72</td>\n",
       "      <td>11</td>\n",
       "      <td>2</td>\n",
       "      <td>66</td>\n",
       "      <td>27</td>\n",
       "      <td>16</td>\n",
       "      <td>9</td>\n",
       "    </tr>\n",
       "    <tr>\n",
       "      <th>sample99</th>\n",
       "      <td>18</td>\n",
       "      <td>14</td>\n",
       "      <td>3</td>\n",
       "      <td>66</td>\n",
       "      <td>53</td>\n",
       "      <td>11</td>\n",
       "      <td>32</td>\n",
       "      <td>19</td>\n",
       "      <td>79</td>\n",
       "      <td>11</td>\n",
       "    </tr>\n",
       "    <tr>\n",
       "      <th>sample100</th>\n",
       "      <td>21</td>\n",
       "      <td>9</td>\n",
       "      <td>3</td>\n",
       "      <td>42</td>\n",
       "      <td>13</td>\n",
       "      <td>13</td>\n",
       "      <td>19</td>\n",
       "      <td>78</td>\n",
       "      <td>30</td>\n",
       "      <td>5</td>\n",
       "    </tr>\n",
       "  </tbody>\n",
       "</table>\n",
       "<p>100 rows × 10 columns</p>\n",
       "</div>"
      ],
      "text/plain": [
       "           gene1  gene2  gene3  gene4  gene5  gene6  gene7  gene8  gene9  \\\n",
       "sample1       12     21      4    130     18      0     16     54     49   \n",
       "sample2        1     44      2     63     11     10     70     32     57   \n",
       "sample3        4      4     11    180     21      3     28     34     65   \n",
       "sample4        1     10      2    100     44      9     28     16     33   \n",
       "sample5        1     11      6    135     16      2     32     29     31   \n",
       "...          ...    ...    ...    ...    ...    ...    ...    ...    ...   \n",
       "sample96       7     26      3     67     11      4     41     44     54   \n",
       "sample97       1     14      3     71     33      5     19     42     25   \n",
       "sample98      10     36      2     72     11      2     66     27     16   \n",
       "sample99      18     14      3     66     53     11     32     19     79   \n",
       "sample100     21      9      3     42     13     13     19     78     30   \n",
       "\n",
       "           gene10  \n",
       "sample1         3  \n",
       "sample2         9  \n",
       "sample3         2  \n",
       "sample4         9  \n",
       "sample5         5  \n",
       "...           ...  \n",
       "sample96        1  \n",
       "sample97        4  \n",
       "sample98        9  \n",
       "sample99       11  \n",
       "sample100       5  \n",
       "\n",
       "[100 rows x 10 columns]"
      ]
     },
     "execution_count": 9,
     "metadata": {},
     "output_type": "execute_result"
    }
   ],
   "source": [
    "counts_df"
   ]
  },
  {
   "cell_type": "code",
   "execution_count": 10,
   "id": "7ca3cebb-c41e-4bcb-86b8-e4428ccdca1e",
   "metadata": {},
   "outputs": [
    {
     "data": {
      "text/html": [
       "<div>\n",
       "<style scoped>\n",
       "    .dataframe tbody tr th:only-of-type {\n",
       "        vertical-align: middle;\n",
       "    }\n",
       "\n",
       "    .dataframe tbody tr th {\n",
       "        vertical-align: top;\n",
       "    }\n",
       "\n",
       "    .dataframe thead th {\n",
       "        text-align: right;\n",
       "    }\n",
       "</style>\n",
       "<table border=\"1\" class=\"dataframe\">\n",
       "  <thead>\n",
       "    <tr style=\"text-align: right;\">\n",
       "      <th></th>\n",
       "      <th>condition</th>\n",
       "      <th>group</th>\n",
       "    </tr>\n",
       "  </thead>\n",
       "  <tbody>\n",
       "    <tr>\n",
       "      <th>sample1</th>\n",
       "      <td>A</td>\n",
       "      <td>X</td>\n",
       "    </tr>\n",
       "    <tr>\n",
       "      <th>sample2</th>\n",
       "      <td>A</td>\n",
       "      <td>Y</td>\n",
       "    </tr>\n",
       "    <tr>\n",
       "      <th>sample3</th>\n",
       "      <td>A</td>\n",
       "      <td>X</td>\n",
       "    </tr>\n",
       "    <tr>\n",
       "      <th>sample4</th>\n",
       "      <td>A</td>\n",
       "      <td>Y</td>\n",
       "    </tr>\n",
       "    <tr>\n",
       "      <th>sample5</th>\n",
       "      <td>A</td>\n",
       "      <td>X</td>\n",
       "    </tr>\n",
       "    <tr>\n",
       "      <th>...</th>\n",
       "      <td>...</td>\n",
       "      <td>...</td>\n",
       "    </tr>\n",
       "    <tr>\n",
       "      <th>sample96</th>\n",
       "      <td>B</td>\n",
       "      <td>Y</td>\n",
       "    </tr>\n",
       "    <tr>\n",
       "      <th>sample97</th>\n",
       "      <td>B</td>\n",
       "      <td>X</td>\n",
       "    </tr>\n",
       "    <tr>\n",
       "      <th>sample98</th>\n",
       "      <td>B</td>\n",
       "      <td>Y</td>\n",
       "    </tr>\n",
       "    <tr>\n",
       "      <th>sample99</th>\n",
       "      <td>B</td>\n",
       "      <td>X</td>\n",
       "    </tr>\n",
       "    <tr>\n",
       "      <th>sample100</th>\n",
       "      <td>B</td>\n",
       "      <td>Y</td>\n",
       "    </tr>\n",
       "  </tbody>\n",
       "</table>\n",
       "<p>100 rows × 2 columns</p>\n",
       "</div>"
      ],
      "text/plain": [
       "          condition group\n",
       "sample1           A     X\n",
       "sample2           A     Y\n",
       "sample3           A     X\n",
       "sample4           A     Y\n",
       "sample5           A     X\n",
       "...             ...   ...\n",
       "sample96          B     Y\n",
       "sample97          B     X\n",
       "sample98          B     Y\n",
       "sample99          B     X\n",
       "sample100         B     Y\n",
       "\n",
       "[100 rows x 2 columns]"
      ]
     },
     "execution_count": 10,
     "metadata": {},
     "output_type": "execute_result"
    }
   ],
   "source": [
    "metadata"
   ]
  },
  {
   "cell_type": "markdown",
   "id": "4e97d0ea-d36e-4215-a192-a844477d6152",
   "metadata": {},
   "source": [
    "## Read counts modeling"
   ]
  },
  {
   "cell_type": "code",
   "execution_count": 11,
   "id": "d42db7ed-8793-460f-b9ee-e77acaa0e510",
   "metadata": {},
   "outputs": [],
   "source": [
    "dds = DeseqDataSet(\n",
    "    counts=counts_df,\n",
    "    metadata=metadata,\n",
    "    design_factors=\"condition\",  # compare samples based on the \"condition\"\n",
    "    # column (\"B\" vs \"A\")\n",
    "    refit_cooks=True,\n",
    "    n_cpus=8,\n",
    ")"
   ]
  },
  {
   "cell_type": "code",
   "execution_count": 12,
   "id": "e8ed9aa5-a7f7-47a5-886b-065b260a5f0e",
   "metadata": {},
   "outputs": [
    {
     "name": "stderr",
     "output_type": "stream",
     "text": [
      "Fitting size factors...\n",
      "... done in 0.00 seconds.\n",
      "\n"
     ]
    },
    {
     "data": {
      "text/plain": [
       "array([1.22898094, 1.18877375, 0.99722229, 1.00215773, 0.83457743,\n",
       "       1.10730382, 0.8999001 , 1.15343785, 0.68163849, 1.29764537,\n",
       "       1.04491511, 1.45930946, 1.14588441, 0.8049275 , 0.88402672,\n",
       "       0.88402672, 1.32879767, 0.82564657, 1.5978062 , 1.29764537,\n",
       "       1.31940196, 0.69919197, 1.10697146, 1.10214803, 1.19152118,\n",
       "       1.0624452 , 0.98548229, 0.76881428, 0.8939601 , 1.27135863,\n",
       "       1.61101905, 1.55084302, 0.83601298, 0.98213727, 1.27270212,\n",
       "       1.0510719 , 1.76078144, 1.08132885, 1.50390106, 1.0510719 ,\n",
       "       0.80280751, 0.70955247, 1.32602392, 0.98031899, 1.1078077 ,\n",
       "       0.68792508, 0.90429564, 1.56411155, 0.81918767, 1.19364837,\n",
       "       0.79492024, 1.84963565, 0.79694628, 0.79708276, 0.97287297,\n",
       "       1.16248554, 1.50489413, 1.41929759, 1.04612122, 1.05720226,\n",
       "       0.99635345, 1.84224912, 1.03801163, 0.89633874, 0.72952979,\n",
       "       1.33453944, 0.93968061, 1.14016425, 1.59166589, 1.08554239,\n",
       "       0.72370261, 0.91558563, 1.14183629, 1.33857618, 0.94450599,\n",
       "       0.85266438, 1.38005658, 1.01803293, 1.04472988, 1.25372879,\n",
       "       1.77488931, 0.92641092, 1.06341062, 1.05653145, 0.61973175,\n",
       "       0.75569423, 0.69781308, 1.38512317, 0.82165798, 0.81330537,\n",
       "       0.96864497, 1.08526199, 0.78205578, 0.98864287, 1.15322141,\n",
       "       1.26935914, 0.74399805, 0.73987825, 0.95887987, 0.63570796])"
      ]
     },
     "execution_count": 12,
     "metadata": {},
     "output_type": "execute_result"
    }
   ],
   "source": [
    "dds.fit_size_factors()\n",
    "dds.obsm[\"size_factors\"]"
   ]
  },
  {
   "cell_type": "code",
   "execution_count": 13,
   "id": "6d06842d-e7e5-43f2-866a-b49e15ddd06d",
   "metadata": {},
   "outputs": [
    {
     "name": "stderr",
     "output_type": "stream",
     "text": [
      "Fitting dispersions...\n",
      "... done in 0.01 seconds.\n",
      "\n"
     ]
    },
    {
     "data": {
      "text/plain": [
       "array([0.91013511, 0.21371805, 0.81359443, 0.1613621 , 0.24850424,\n",
       "       0.97307734, 0.23303023, 0.19810261, 0.18363604, 0.64637486])"
      ]
     },
     "execution_count": 13,
     "metadata": {},
     "output_type": "execute_result"
    }
   ],
   "source": [
    "dds.fit_genewise_dispersions()\n",
    "dds.varm[\"genewise_dispersions\"]"
   ]
  },
  {
   "cell_type": "code",
   "execution_count": 14,
   "id": "74714c5a-c3de-4a62-9ffa-71f21fbf0db7",
   "metadata": {},
   "outputs": [
    {
     "name": "stderr",
     "output_type": "stream",
     "text": [
      "Fitting dispersion trend curve...\n",
      "... done in 0.02 seconds.\n",
      "\n"
     ]
    },
    {
     "data": {
      "text/plain": [
       "array([0.65142791, 0.31300248, 1.04987097, 0.13414632, 0.26400662,\n",
       "       0.97813348, 0.25676617, 0.20575176, 0.2160277 , 0.50274843])"
      ]
     },
     "execution_count": 14,
     "metadata": {},
     "output_type": "execute_result"
    }
   ],
   "source": [
    "dds.fit_dispersion_trend()\n",
    "dds.uns[\"trend_coeffs\"]\n",
    "dds.varm[\"fitted_dispersions\"]"
   ]
  },
  {
   "cell_type": "code",
   "execution_count": 15,
   "id": "8e87b07d-f616-4f12-a824-e7ea528b72ad",
   "metadata": {},
   "outputs": [
    {
     "name": "stdout",
     "output_type": "stream",
     "text": [
      "logres_prior=0.0559246320431474, sigma_prior=0.25\n"
     ]
    }
   ],
   "source": [
    "dds.fit_dispersion_prior()\n",
    "print(\n",
    "    f\"logres_prior={dds.uns['_squared_logres']}, sigma_prior={dds.uns['prior_disp_var']}\"\n",
    ")"
   ]
  },
  {
   "cell_type": "code",
   "execution_count": 16,
   "id": "b4ca4b0c-867d-46ec-9fb7-de017d171f4c",
   "metadata": {},
   "outputs": [
    {
     "name": "stderr",
     "output_type": "stream",
     "text": [
      "Fitting MAP dispersions...\n",
      "... done in 0.02 seconds.\n",
      "\n"
     ]
    },
    {
     "data": {
      "text/plain": [
       "array([0.88259868, 0.22257863, 0.83723801, 0.15897048, 0.24992589,\n",
       "       0.97364795, 0.23515487, 0.19878078, 0.1865203 , 0.63189989])"
      ]
     },
     "execution_count": 16,
     "metadata": {},
     "output_type": "execute_result"
    }
   ],
   "source": [
    "dds.fit_MAP_dispersions()\n",
    "dds.varm[\"MAP_dispersions\"]\n",
    "dds.varm[\"dispersions\"]"
   ]
  },
  {
   "cell_type": "code",
   "execution_count": 17,
   "id": "02de7578-30de-4ca3-8e30-63a576fedce6",
   "metadata": {},
   "outputs": [
    {
     "name": "stderr",
     "output_type": "stream",
     "text": [
      "Fitting LFCs...\n",
      "... done in 0.01 seconds.\n",
      "\n"
     ]
    },
    {
     "data": {
      "text/html": [
       "<div>\n",
       "<style scoped>\n",
       "    .dataframe tbody tr th:only-of-type {\n",
       "        vertical-align: middle;\n",
       "    }\n",
       "\n",
       "    .dataframe tbody tr th {\n",
       "        vertical-align: top;\n",
       "    }\n",
       "\n",
       "    .dataframe thead th {\n",
       "        text-align: right;\n",
       "    }\n",
       "</style>\n",
       "<table border=\"1\" class=\"dataframe\">\n",
       "  <thead>\n",
       "    <tr style=\"text-align: right;\">\n",
       "      <th></th>\n",
       "      <th>intercept</th>\n",
       "      <th>condition_B_vs_A</th>\n",
       "    </tr>\n",
       "  </thead>\n",
       "  <tbody>\n",
       "    <tr>\n",
       "      <th>gene1</th>\n",
       "      <td>1.891436</td>\n",
       "      <td>0.438632</td>\n",
       "    </tr>\n",
       "    <tr>\n",
       "      <th>gene2</th>\n",
       "      <td>2.851662</td>\n",
       "      <td>0.373296</td>\n",
       "    </tr>\n",
       "    <tr>\n",
       "      <th>gene3</th>\n",
       "      <td>1.787780</td>\n",
       "      <td>-0.438645</td>\n",
       "    </tr>\n",
       "    <tr>\n",
       "      <th>gene4</th>\n",
       "      <td>4.741958</td>\n",
       "      <td>-0.285647</td>\n",
       "    </tr>\n",
       "    <tr>\n",
       "      <th>gene5</th>\n",
       "      <td>3.077798</td>\n",
       "      <td>0.403457</td>\n",
       "    </tr>\n",
       "    <tr>\n",
       "      <th>gene6</th>\n",
       "      <td>1.678536</td>\n",
       "      <td>0.001010</td>\n",
       "    </tr>\n",
       "    <tr>\n",
       "      <th>gene7</th>\n",
       "      <td>3.291025</td>\n",
       "      <td>0.093116</td>\n",
       "    </tr>\n",
       "    <tr>\n",
       "      <th>gene8</th>\n",
       "      <td>3.785129</td>\n",
       "      <td>-0.187604</td>\n",
       "    </tr>\n",
       "    <tr>\n",
       "      <th>gene9</th>\n",
       "      <td>3.682882</td>\n",
       "      <td>-0.147443</td>\n",
       "    </tr>\n",
       "    <tr>\n",
       "      <th>gene10</th>\n",
       "      <td>2.300515</td>\n",
       "      <td>0.267562</td>\n",
       "    </tr>\n",
       "  </tbody>\n",
       "</table>\n",
       "</div>"
      ],
      "text/plain": [
       "        intercept  condition_B_vs_A\n",
       "gene1    1.891436          0.438632\n",
       "gene2    2.851662          0.373296\n",
       "gene3    1.787780         -0.438645\n",
       "gene4    4.741958         -0.285647\n",
       "gene5    3.077798          0.403457\n",
       "gene6    1.678536          0.001010\n",
       "gene7    3.291025          0.093116\n",
       "gene8    3.785129         -0.187604\n",
       "gene9    3.682882         -0.147443\n",
       "gene10   2.300515          0.267562"
      ]
     },
     "execution_count": 17,
     "metadata": {},
     "output_type": "execute_result"
    }
   ],
   "source": [
    "dds.fit_LFC()\n",
    "dds.varm[\"LFC\"]"
   ]
  },
  {
   "cell_type": "code",
   "execution_count": 18,
   "id": "96e79e66-e0f3-422a-b912-f012ed1b76a8",
   "metadata": {},
   "outputs": [
    {
     "name": "stderr",
     "output_type": "stream",
     "text": [
      "Refitting 0 outliers.\n",
      "\n"
     ]
    }
   ],
   "source": [
    "dds.calculate_cooks()\n",
    "if dds.refit_cooks:\n",
    "    # Replace outlier counts\n",
    "    dds.refit()"
   ]
  },
  {
   "cell_type": "code",
   "execution_count": 19,
   "id": "19da0172-1a60-4391-85ed-b31bdb5043b7",
   "metadata": {},
   "outputs": [],
   "source": [
    "if SAVE:\n",
    "    with open(os.path.join(OUTPUT_PATH, \"dds_detailed_pipe.pkl\"), \"wb\") as f:\n",
    "        pkl.dump(dds, f)"
   ]
  },
  {
   "cell_type": "markdown",
   "id": "5d88c5f3-6c99-4ad0-be1f-92b2c75e89bb",
   "metadata": {},
   "source": [
    "## Statistical analysis"
   ]
  },
  {
   "cell_type": "code",
   "execution_count": 20,
   "id": "1d6b2493-a65c-415a-988f-671eae8a2306",
   "metadata": {},
   "outputs": [],
   "source": [
    "stat_res = DeseqStats(dds, alpha=0.05, cooks_filter=True, independent_filter=True)"
   ]
  },
  {
   "cell_type": "code",
   "execution_count": 21,
   "id": "87b5dc65-dc1e-4828-8e25-bae87c611c17",
   "metadata": {},
   "outputs": [
    {
     "name": "stderr",
     "output_type": "stream",
     "text": [
      "Running Wald tests...\n",
      "... done in 0.11 seconds.\n",
      "\n"
     ]
    },
    {
     "data": {
      "text/plain": [
       "gene1     0.028604\n",
       "gene2     0.000329\n",
       "gene3     0.032075\n",
       "gene4     0.000513\n",
       "gene5     0.000168\n",
       "gene6     0.996253\n",
       "gene7     0.370297\n",
       "gene8     0.047227\n",
       "gene9     0.110391\n",
       "gene10    0.114518\n",
       "dtype: float64"
      ]
     },
     "execution_count": 21,
     "metadata": {},
     "output_type": "execute_result"
    }
   ],
   "source": [
    "stat_res.run_wald_test()\n",
    "stat_res.p_values"
   ]
  },
  {
   "cell_type": "code",
   "execution_count": 22,
   "id": "2e38ccda-53bc-4070-ba31-430c3c4b8300",
   "metadata": {},
   "outputs": [
    {
     "data": {
      "text/plain": [
       "gene1     0.028604\n",
       "gene2     0.000329\n",
       "gene3     0.032075\n",
       "gene4     0.000513\n",
       "gene5     0.000168\n",
       "gene6     0.996253\n",
       "gene7     0.370297\n",
       "gene8     0.047227\n",
       "gene9     0.110391\n",
       "gene10    0.114518\n",
       "dtype: float64"
      ]
     },
     "execution_count": 22,
     "metadata": {},
     "output_type": "execute_result"
    }
   ],
   "source": [
    "# optional Cooks filtering\n",
    "if stat_res.cooks_filter:\n",
    "    stat_res._cooks_filtering()\n",
    "stat_res.p_values"
   ]
  },
  {
   "cell_type": "code",
   "execution_count": 23,
   "id": "a5f17be2-ee24-47d0-81e1-f189b3d65c38",
   "metadata": {},
   "outputs": [
    {
     "data": {
      "text/plain": [
       "gene1     0.064150\n",
       "gene2     0.001646\n",
       "gene3     0.064150\n",
       "gene4     0.001710\n",
       "gene5     0.001646\n",
       "gene6     0.996253\n",
       "gene7     0.411441\n",
       "gene8     0.078711\n",
       "gene9     0.143148\n",
       "gene10    0.143148\n",
       "Name: 0, dtype: float64"
      ]
     },
     "execution_count": 23,
     "metadata": {},
     "output_type": "execute_result"
    }
   ],
   "source": [
    "if stat_res.independent_filter:\n",
    "    stat_res._independent_filtering()\n",
    "else:\n",
    "    stat_res._p_value_adjustment()\n",
    "\n",
    "stat_res.padj"
   ]
  },
  {
   "cell_type": "code",
   "execution_count": 24,
   "id": "e14493e1-8e8b-4645-8f40-f700cbee2a34",
   "metadata": {},
   "outputs": [
    {
     "name": "stdout",
     "output_type": "stream",
     "text": [
      "Log2 fold change & Wald test p-value: condition B vs A\n"
     ]
    },
    {
     "data": {
      "text/html": [
       "<div>\n",
       "<style scoped>\n",
       "    .dataframe tbody tr th:only-of-type {\n",
       "        vertical-align: middle;\n",
       "    }\n",
       "\n",
       "    .dataframe tbody tr th {\n",
       "        vertical-align: top;\n",
       "    }\n",
       "\n",
       "    .dataframe thead th {\n",
       "        text-align: right;\n",
       "    }\n",
       "</style>\n",
       "<table border=\"1\" class=\"dataframe\">\n",
       "  <thead>\n",
       "    <tr style=\"text-align: right;\">\n",
       "      <th></th>\n",
       "      <th>baseMean</th>\n",
       "      <th>log2FoldChange</th>\n",
       "      <th>lfcSE</th>\n",
       "      <th>stat</th>\n",
       "      <th>pvalue</th>\n",
       "      <th>padj</th>\n",
       "    </tr>\n",
       "  </thead>\n",
       "  <tbody>\n",
       "    <tr>\n",
       "      <th>gene1</th>\n",
       "      <td>8.541317</td>\n",
       "      <td>0.632812</td>\n",
       "      <td>0.289101</td>\n",
       "      <td>2.188898</td>\n",
       "      <td>0.028604</td>\n",
       "      <td>0.064150</td>\n",
       "    </tr>\n",
       "    <tr>\n",
       "      <th>gene2</th>\n",
       "      <td>21.281239</td>\n",
       "      <td>0.538552</td>\n",
       "      <td>0.149963</td>\n",
       "      <td>3.591235</td>\n",
       "      <td>0.000329</td>\n",
       "      <td>0.001646</td>\n",
       "    </tr>\n",
       "    <tr>\n",
       "      <th>gene3</th>\n",
       "      <td>5.010123</td>\n",
       "      <td>-0.632830</td>\n",
       "      <td>0.295236</td>\n",
       "      <td>-2.143475</td>\n",
       "      <td>0.032075</td>\n",
       "      <td>0.064150</td>\n",
       "    </tr>\n",
       "    <tr>\n",
       "      <th>gene4</th>\n",
       "      <td>100.517961</td>\n",
       "      <td>-0.412102</td>\n",
       "      <td>0.118629</td>\n",
       "      <td>-3.473867</td>\n",
       "      <td>0.000513</td>\n",
       "      <td>0.001710</td>\n",
       "    </tr>\n",
       "    <tr>\n",
       "      <th>gene5</th>\n",
       "      <td>27.142450</td>\n",
       "      <td>0.582065</td>\n",
       "      <td>0.154706</td>\n",
       "      <td>3.762408</td>\n",
       "      <td>0.000168</td>\n",
       "      <td>0.001646</td>\n",
       "    </tr>\n",
       "    <tr>\n",
       "      <th>gene6</th>\n",
       "      <td>5.413043</td>\n",
       "      <td>0.001457</td>\n",
       "      <td>0.310311</td>\n",
       "      <td>0.004696</td>\n",
       "      <td>0.996253</td>\n",
       "      <td>0.996253</td>\n",
       "    </tr>\n",
       "    <tr>\n",
       "      <th>gene7</th>\n",
       "      <td>28.294023</td>\n",
       "      <td>0.134338</td>\n",
       "      <td>0.149945</td>\n",
       "      <td>0.895917</td>\n",
       "      <td>0.370297</td>\n",
       "      <td>0.411441</td>\n",
       "    </tr>\n",
       "    <tr>\n",
       "      <th>gene8</th>\n",
       "      <td>40.358344</td>\n",
       "      <td>-0.270656</td>\n",
       "      <td>0.136401</td>\n",
       "      <td>-1.984260</td>\n",
       "      <td>0.047227</td>\n",
       "      <td>0.078711</td>\n",
       "    </tr>\n",
       "    <tr>\n",
       "      <th>gene9</th>\n",
       "      <td>37.166183</td>\n",
       "      <td>-0.212715</td>\n",
       "      <td>0.133243</td>\n",
       "      <td>-1.596437</td>\n",
       "      <td>0.110391</td>\n",
       "      <td>0.143148</td>\n",
       "    </tr>\n",
       "    <tr>\n",
       "      <th>gene10</th>\n",
       "      <td>11.589325</td>\n",
       "      <td>0.386011</td>\n",
       "      <td>0.244588</td>\n",
       "      <td>1.578207</td>\n",
       "      <td>0.114518</td>\n",
       "      <td>0.143148</td>\n",
       "    </tr>\n",
       "  </tbody>\n",
       "</table>\n",
       "</div>"
      ],
      "text/plain": [
       "          baseMean  log2FoldChange     lfcSE      stat    pvalue      padj\n",
       "gene1     8.541317        0.632812  0.289101  2.188898  0.028604  0.064150\n",
       "gene2    21.281239        0.538552  0.149963  3.591235  0.000329  0.001646\n",
       "gene3     5.010123       -0.632830  0.295236 -2.143475  0.032075  0.064150\n",
       "gene4   100.517961       -0.412102  0.118629 -3.473867  0.000513  0.001710\n",
       "gene5    27.142450        0.582065  0.154706  3.762408  0.000168  0.001646\n",
       "gene6     5.413043        0.001457  0.310311  0.004696  0.996253  0.996253\n",
       "gene7    28.294023        0.134338  0.149945  0.895917  0.370297  0.411441\n",
       "gene8    40.358344       -0.270656  0.136401 -1.984260  0.047227  0.078711\n",
       "gene9    37.166183       -0.212715  0.133243 -1.596437  0.110391  0.143148\n",
       "gene10   11.589325        0.386011  0.244588  1.578207  0.114518  0.143148"
      ]
     },
     "metadata": {},
     "output_type": "display_data"
    }
   ],
   "source": [
    "stat_res.summary()"
   ]
  },
  {
   "cell_type": "code",
   "execution_count": 25,
   "id": "b5c0c3b6-a734-4196-b11d-ac44c35a9ec9",
   "metadata": {},
   "outputs": [],
   "source": [
    "if SAVE:\n",
    "    with open(os.path.join(OUTPUT_PATH, \"stat_results_detailed_pipe.pkl\"), \"wb\") as f:\n",
    "        pkl.dump(stat_res, f)"
   ]
  },
  {
   "cell_type": "code",
   "execution_count": 26,
   "id": "c98f2b9b-09f1-4217-9cc5-7c1bdb4c5dcd",
   "metadata": {},
   "outputs": [
    {
     "name": "stderr",
     "output_type": "stream",
     "text": [
      "Fitting MAP LFCs...\n"
     ]
    },
    {
     "name": "stdout",
     "output_type": "stream",
     "text": [
      "Shrunk log2 fold change & Wald test p-value: condition B vs A\n"
     ]
    },
    {
     "name": "stderr",
     "output_type": "stream",
     "text": [
      "... done in 0.50 seconds.\n",
      "\n"
     ]
    },
    {
     "data": {
      "text/html": [
       "<div>\n",
       "<style scoped>\n",
       "    .dataframe tbody tr th:only-of-type {\n",
       "        vertical-align: middle;\n",
       "    }\n",
       "\n",
       "    .dataframe tbody tr th {\n",
       "        vertical-align: top;\n",
       "    }\n",
       "\n",
       "    .dataframe thead th {\n",
       "        text-align: right;\n",
       "    }\n",
       "</style>\n",
       "<table border=\"1\" class=\"dataframe\">\n",
       "  <thead>\n",
       "    <tr style=\"text-align: right;\">\n",
       "      <th></th>\n",
       "      <th>baseMean</th>\n",
       "      <th>log2FoldChange</th>\n",
       "      <th>lfcSE</th>\n",
       "      <th>stat</th>\n",
       "      <th>pvalue</th>\n",
       "      <th>padj</th>\n",
       "    </tr>\n",
       "  </thead>\n",
       "  <tbody>\n",
       "    <tr>\n",
       "      <th>gene1</th>\n",
       "      <td>8.541317</td>\n",
       "      <td>0.408253</td>\n",
       "      <td>0.294276</td>\n",
       "      <td>2.188898</td>\n",
       "      <td>0.028604</td>\n",
       "      <td>0.064150</td>\n",
       "    </tr>\n",
       "    <tr>\n",
       "      <th>gene2</th>\n",
       "      <td>21.281239</td>\n",
       "      <td>0.480145</td>\n",
       "      <td>0.151201</td>\n",
       "      <td>3.591235</td>\n",
       "      <td>0.000329</td>\n",
       "      <td>0.001646</td>\n",
       "    </tr>\n",
       "    <tr>\n",
       "      <th>gene3</th>\n",
       "      <td>5.010123</td>\n",
       "      <td>-0.396066</td>\n",
       "      <td>0.300796</td>\n",
       "      <td>-2.143475</td>\n",
       "      <td>0.032075</td>\n",
       "      <td>0.064150</td>\n",
       "    </tr>\n",
       "    <tr>\n",
       "      <th>gene4</th>\n",
       "      <td>100.517961</td>\n",
       "      <td>-0.374191</td>\n",
       "      <td>0.118704</td>\n",
       "      <td>-3.473867</td>\n",
       "      <td>0.000513</td>\n",
       "      <td>0.001710</td>\n",
       "    </tr>\n",
       "    <tr>\n",
       "      <th>gene5</th>\n",
       "      <td>27.142450</td>\n",
       "      <td>0.521487</td>\n",
       "      <td>0.156210</td>\n",
       "      <td>3.762408</td>\n",
       "      <td>0.000168</td>\n",
       "      <td>0.001646</td>\n",
       "    </tr>\n",
       "    <tr>\n",
       "      <th>gene6</th>\n",
       "      <td>5.413043</td>\n",
       "      <td>0.000716</td>\n",
       "      <td>0.239203</td>\n",
       "      <td>0.004696</td>\n",
       "      <td>0.996253</td>\n",
       "      <td>0.996253</td>\n",
       "    </tr>\n",
       "    <tr>\n",
       "      <th>gene7</th>\n",
       "      <td>28.294023</td>\n",
       "      <td>0.103421</td>\n",
       "      <td>0.141496</td>\n",
       "      <td>0.895917</td>\n",
       "      <td>0.370297</td>\n",
       "      <td>0.411441</td>\n",
       "    </tr>\n",
       "    <tr>\n",
       "      <th>gene8</th>\n",
       "      <td>40.358344</td>\n",
       "      <td>-0.226288</td>\n",
       "      <td>0.133477</td>\n",
       "      <td>-1.984260</td>\n",
       "      <td>0.047227</td>\n",
       "      <td>0.078711</td>\n",
       "    </tr>\n",
       "    <tr>\n",
       "      <th>gene9</th>\n",
       "      <td>37.166183</td>\n",
       "      <td>-0.175746</td>\n",
       "      <td>0.129138</td>\n",
       "      <td>-1.596437</td>\n",
       "      <td>0.110391</td>\n",
       "      <td>0.143148</td>\n",
       "    </tr>\n",
       "    <tr>\n",
       "      <th>gene10</th>\n",
       "      <td>11.589325</td>\n",
       "      <td>0.239935</td>\n",
       "      <td>0.231986</td>\n",
       "      <td>1.578207</td>\n",
       "      <td>0.114518</td>\n",
       "      <td>0.143148</td>\n",
       "    </tr>\n",
       "  </tbody>\n",
       "</table>\n",
       "</div>"
      ],
      "text/plain": [
       "          baseMean  log2FoldChange     lfcSE      stat    pvalue      padj\n",
       "gene1     8.541317        0.408253  0.294276  2.188898  0.028604  0.064150\n",
       "gene2    21.281239        0.480145  0.151201  3.591235  0.000329  0.001646\n",
       "gene3     5.010123       -0.396066  0.300796 -2.143475  0.032075  0.064150\n",
       "gene4   100.517961       -0.374191  0.118704 -3.473867  0.000513  0.001710\n",
       "gene5    27.142450        0.521487  0.156210  3.762408  0.000168  0.001646\n",
       "gene6     5.413043        0.000716  0.239203  0.004696  0.996253  0.996253\n",
       "gene7    28.294023        0.103421  0.141496  0.895917  0.370297  0.411441\n",
       "gene8    40.358344       -0.226288  0.133477 -1.984260  0.047227  0.078711\n",
       "gene9    37.166183       -0.175746  0.129138 -1.596437  0.110391  0.143148\n",
       "gene10   11.589325        0.239935  0.231986  1.578207  0.114518  0.143148"
      ]
     },
     "metadata": {},
     "output_type": "display_data"
    }
   ],
   "source": [
    "stat_res.lfc_shrink(coeff=\"condition_B_vs_A\")"
   ]
  },
  {
   "cell_type": "code",
   "execution_count": 27,
   "id": "5c6229d3-3d73-40df-b88a-863126bf8de2",
   "metadata": {},
   "outputs": [],
   "source": [
    "if SAVE:\n",
    "    with open(\n",
    "        os.path.join(OUTPUT_PATH, \"shrunk_stat_results_detailed_pipe.pkl\"), \"wb\"\n",
    "    ) as f:\n",
    "        pkl.dump(stat_res, f)"
   ]
  },
  {
   "cell_type": "code",
   "execution_count": null,
   "id": "5106f48e-dbe8-4db5-9423-fd828a4451a7",
   "metadata": {},
   "outputs": [],
   "source": []
  },
  {
   "cell_type": "code",
   "execution_count": null,
   "id": "8eef13a6-3efa-4bd0-b88c-3c1807fc016d",
   "metadata": {},
   "outputs": [],
   "source": []
  },
  {
   "cell_type": "code",
   "execution_count": null,
   "id": "1438b8ed-f0da-4952-8d16-b343e4098707",
   "metadata": {},
   "outputs": [],
   "source": []
  },
  {
   "cell_type": "code",
   "execution_count": 28,
   "id": "beb304d3-cca0-4621-b2cb-298c54a818a1",
   "metadata": {},
   "outputs": [
    {
     "data": {
      "text/html": [
       "<div>\n",
       "<style scoped>\n",
       "    .dataframe tbody tr th:only-of-type {\n",
       "        vertical-align: middle;\n",
       "    }\n",
       "\n",
       "    .dataframe tbody tr th {\n",
       "        vertical-align: top;\n",
       "    }\n",
       "\n",
       "    .dataframe thead th {\n",
       "        text-align: right;\n",
       "    }\n",
       "</style>\n",
       "<table border=\"1\" class=\"dataframe\">\n",
       "  <thead>\n",
       "    <tr style=\"text-align: right;\">\n",
       "      <th></th>\n",
       "      <th>gene1</th>\n",
       "      <th>gene2</th>\n",
       "      <th>gene3</th>\n",
       "      <th>gene4</th>\n",
       "      <th>gene5</th>\n",
       "      <th>gene6</th>\n",
       "      <th>gene7</th>\n",
       "      <th>gene8</th>\n",
       "      <th>gene9</th>\n",
       "      <th>gene10</th>\n",
       "    </tr>\n",
       "  </thead>\n",
       "  <tbody>\n",
       "    <tr>\n",
       "      <th>sample1</th>\n",
       "      <td>12</td>\n",
       "      <td>21</td>\n",
       "      <td>4</td>\n",
       "      <td>130</td>\n",
       "      <td>18</td>\n",
       "      <td>0</td>\n",
       "      <td>16</td>\n",
       "      <td>54</td>\n",
       "      <td>49</td>\n",
       "      <td>3</td>\n",
       "    </tr>\n",
       "    <tr>\n",
       "      <th>sample2</th>\n",
       "      <td>1</td>\n",
       "      <td>44</td>\n",
       "      <td>2</td>\n",
       "      <td>63</td>\n",
       "      <td>11</td>\n",
       "      <td>10</td>\n",
       "      <td>70</td>\n",
       "      <td>32</td>\n",
       "      <td>57</td>\n",
       "      <td>9</td>\n",
       "    </tr>\n",
       "    <tr>\n",
       "      <th>sample3</th>\n",
       "      <td>4</td>\n",
       "      <td>4</td>\n",
       "      <td>11</td>\n",
       "      <td>180</td>\n",
       "      <td>21</td>\n",
       "      <td>3</td>\n",
       "      <td>28</td>\n",
       "      <td>34</td>\n",
       "      <td>65</td>\n",
       "      <td>2</td>\n",
       "    </tr>\n",
       "    <tr>\n",
       "      <th>sample4</th>\n",
       "      <td>1</td>\n",
       "      <td>10</td>\n",
       "      <td>2</td>\n",
       "      <td>100</td>\n",
       "      <td>44</td>\n",
       "      <td>9</td>\n",
       "      <td>28</td>\n",
       "      <td>16</td>\n",
       "      <td>33</td>\n",
       "      <td>9</td>\n",
       "    </tr>\n",
       "    <tr>\n",
       "      <th>sample5</th>\n",
       "      <td>1</td>\n",
       "      <td>11</td>\n",
       "      <td>6</td>\n",
       "      <td>135</td>\n",
       "      <td>16</td>\n",
       "      <td>2</td>\n",
       "      <td>32</td>\n",
       "      <td>29</td>\n",
       "      <td>31</td>\n",
       "      <td>5</td>\n",
       "    </tr>\n",
       "    <tr>\n",
       "      <th>...</th>\n",
       "      <td>...</td>\n",
       "      <td>...</td>\n",
       "      <td>...</td>\n",
       "      <td>...</td>\n",
       "      <td>...</td>\n",
       "      <td>...</td>\n",
       "      <td>...</td>\n",
       "      <td>...</td>\n",
       "      <td>...</td>\n",
       "      <td>...</td>\n",
       "    </tr>\n",
       "    <tr>\n",
       "      <th>sample96</th>\n",
       "      <td>7</td>\n",
       "      <td>26</td>\n",
       "      <td>3</td>\n",
       "      <td>67</td>\n",
       "      <td>11</td>\n",
       "      <td>4</td>\n",
       "      <td>41</td>\n",
       "      <td>44</td>\n",
       "      <td>54</td>\n",
       "      <td>1</td>\n",
       "    </tr>\n",
       "    <tr>\n",
       "      <th>sample97</th>\n",
       "      <td>1</td>\n",
       "      <td>14</td>\n",
       "      <td>3</td>\n",
       "      <td>71</td>\n",
       "      <td>33</td>\n",
       "      <td>5</td>\n",
       "      <td>19</td>\n",
       "      <td>42</td>\n",
       "      <td>25</td>\n",
       "      <td>4</td>\n",
       "    </tr>\n",
       "    <tr>\n",
       "      <th>sample98</th>\n",
       "      <td>10</td>\n",
       "      <td>36</td>\n",
       "      <td>2</td>\n",
       "      <td>72</td>\n",
       "      <td>11</td>\n",
       "      <td>2</td>\n",
       "      <td>66</td>\n",
       "      <td>27</td>\n",
       "      <td>16</td>\n",
       "      <td>9</td>\n",
       "    </tr>\n",
       "    <tr>\n",
       "      <th>sample99</th>\n",
       "      <td>18</td>\n",
       "      <td>14</td>\n",
       "      <td>3</td>\n",
       "      <td>66</td>\n",
       "      <td>53</td>\n",
       "      <td>11</td>\n",
       "      <td>32</td>\n",
       "      <td>19</td>\n",
       "      <td>79</td>\n",
       "      <td>11</td>\n",
       "    </tr>\n",
       "    <tr>\n",
       "      <th>sample100</th>\n",
       "      <td>21</td>\n",
       "      <td>9</td>\n",
       "      <td>3</td>\n",
       "      <td>42</td>\n",
       "      <td>13</td>\n",
       "      <td>13</td>\n",
       "      <td>19</td>\n",
       "      <td>78</td>\n",
       "      <td>30</td>\n",
       "      <td>5</td>\n",
       "    </tr>\n",
       "  </tbody>\n",
       "</table>\n",
       "<p>100 rows × 10 columns</p>\n",
       "</div>"
      ],
      "text/plain": [
       "           gene1  gene2  gene3  gene4  gene5  gene6  gene7  gene8  gene9  \\\n",
       "sample1       12     21      4    130     18      0     16     54     49   \n",
       "sample2        1     44      2     63     11     10     70     32     57   \n",
       "sample3        4      4     11    180     21      3     28     34     65   \n",
       "sample4        1     10      2    100     44      9     28     16     33   \n",
       "sample5        1     11      6    135     16      2     32     29     31   \n",
       "...          ...    ...    ...    ...    ...    ...    ...    ...    ...   \n",
       "sample96       7     26      3     67     11      4     41     44     54   \n",
       "sample97       1     14      3     71     33      5     19     42     25   \n",
       "sample98      10     36      2     72     11      2     66     27     16   \n",
       "sample99      18     14      3     66     53     11     32     19     79   \n",
       "sample100     21      9      3     42     13     13     19     78     30   \n",
       "\n",
       "           gene10  \n",
       "sample1         3  \n",
       "sample2         9  \n",
       "sample3         2  \n",
       "sample4         9  \n",
       "sample5         5  \n",
       "...           ...  \n",
       "sample96        1  \n",
       "sample97        4  \n",
       "sample98        9  \n",
       "sample99       11  \n",
       "sample100       5  \n",
       "\n",
       "[100 rows x 10 columns]"
      ]
     },
     "execution_count": 28,
     "metadata": {},
     "output_type": "execute_result"
    }
   ],
   "source": [
    "dds.to_df()"
   ]
  },
  {
   "cell_type": "code",
   "execution_count": 29,
   "id": "731dde18-2b0c-4b27-be62-d5003a7f90e8",
   "metadata": {},
   "outputs": [
    {
     "data": {
      "text/html": [
       "<div>\n",
       "<style scoped>\n",
       "    .dataframe tbody tr th:only-of-type {\n",
       "        vertical-align: middle;\n",
       "    }\n",
       "\n",
       "    .dataframe tbody tr th {\n",
       "        vertical-align: top;\n",
       "    }\n",
       "\n",
       "    .dataframe thead th {\n",
       "        text-align: right;\n",
       "    }\n",
       "</style>\n",
       "<table border=\"1\" class=\"dataframe\">\n",
       "  <thead>\n",
       "    <tr style=\"text-align: right;\">\n",
       "      <th></th>\n",
       "      <th>baseMean</th>\n",
       "      <th>log2FoldChange</th>\n",
       "      <th>lfcSE</th>\n",
       "      <th>stat</th>\n",
       "      <th>pvalue</th>\n",
       "      <th>padj</th>\n",
       "    </tr>\n",
       "  </thead>\n",
       "  <tbody>\n",
       "    <tr>\n",
       "      <th>gene1</th>\n",
       "      <td>8.541317</td>\n",
       "      <td>0.408253</td>\n",
       "      <td>0.294276</td>\n",
       "      <td>2.188898</td>\n",
       "      <td>0.028604</td>\n",
       "      <td>0.064150</td>\n",
       "    </tr>\n",
       "    <tr>\n",
       "      <th>gene2</th>\n",
       "      <td>21.281239</td>\n",
       "      <td>0.480145</td>\n",
       "      <td>0.151201</td>\n",
       "      <td>3.591235</td>\n",
       "      <td>0.000329</td>\n",
       "      <td>0.001646</td>\n",
       "    </tr>\n",
       "    <tr>\n",
       "      <th>gene3</th>\n",
       "      <td>5.010123</td>\n",
       "      <td>-0.396066</td>\n",
       "      <td>0.300796</td>\n",
       "      <td>-2.143475</td>\n",
       "      <td>0.032075</td>\n",
       "      <td>0.064150</td>\n",
       "    </tr>\n",
       "    <tr>\n",
       "      <th>gene4</th>\n",
       "      <td>100.517961</td>\n",
       "      <td>-0.374191</td>\n",
       "      <td>0.118704</td>\n",
       "      <td>-3.473867</td>\n",
       "      <td>0.000513</td>\n",
       "      <td>0.001710</td>\n",
       "    </tr>\n",
       "    <tr>\n",
       "      <th>gene5</th>\n",
       "      <td>27.142450</td>\n",
       "      <td>0.521487</td>\n",
       "      <td>0.156210</td>\n",
       "      <td>3.762408</td>\n",
       "      <td>0.000168</td>\n",
       "      <td>0.001646</td>\n",
       "    </tr>\n",
       "    <tr>\n",
       "      <th>gene6</th>\n",
       "      <td>5.413043</td>\n",
       "      <td>0.000716</td>\n",
       "      <td>0.239203</td>\n",
       "      <td>0.004696</td>\n",
       "      <td>0.996253</td>\n",
       "      <td>0.996253</td>\n",
       "    </tr>\n",
       "    <tr>\n",
       "      <th>gene7</th>\n",
       "      <td>28.294023</td>\n",
       "      <td>0.103421</td>\n",
       "      <td>0.141496</td>\n",
       "      <td>0.895917</td>\n",
       "      <td>0.370297</td>\n",
       "      <td>0.411441</td>\n",
       "    </tr>\n",
       "    <tr>\n",
       "      <th>gene8</th>\n",
       "      <td>40.358344</td>\n",
       "      <td>-0.226288</td>\n",
       "      <td>0.133477</td>\n",
       "      <td>-1.984260</td>\n",
       "      <td>0.047227</td>\n",
       "      <td>0.078711</td>\n",
       "    </tr>\n",
       "    <tr>\n",
       "      <th>gene9</th>\n",
       "      <td>37.166183</td>\n",
       "      <td>-0.175746</td>\n",
       "      <td>0.129138</td>\n",
       "      <td>-1.596437</td>\n",
       "      <td>0.110391</td>\n",
       "      <td>0.143148</td>\n",
       "    </tr>\n",
       "    <tr>\n",
       "      <th>gene10</th>\n",
       "      <td>11.589325</td>\n",
       "      <td>0.239935</td>\n",
       "      <td>0.231986</td>\n",
       "      <td>1.578207</td>\n",
       "      <td>0.114518</td>\n",
       "      <td>0.143148</td>\n",
       "    </tr>\n",
       "  </tbody>\n",
       "</table>\n",
       "</div>"
      ],
      "text/plain": [
       "          baseMean  log2FoldChange     lfcSE      stat    pvalue      padj\n",
       "gene1     8.541317        0.408253  0.294276  2.188898  0.028604  0.064150\n",
       "gene2    21.281239        0.480145  0.151201  3.591235  0.000329  0.001646\n",
       "gene3     5.010123       -0.396066  0.300796 -2.143475  0.032075  0.064150\n",
       "gene4   100.517961       -0.374191  0.118704 -3.473867  0.000513  0.001710\n",
       "gene5    27.142450        0.521487  0.156210  3.762408  0.000168  0.001646\n",
       "gene6     5.413043        0.000716  0.239203  0.004696  0.996253  0.996253\n",
       "gene7    28.294023        0.103421  0.141496  0.895917  0.370297  0.411441\n",
       "gene8    40.358344       -0.226288  0.133477 -1.984260  0.047227  0.078711\n",
       "gene9    37.166183       -0.175746  0.129138 -1.596437  0.110391  0.143148\n",
       "gene10   11.589325        0.239935  0.231986  1.578207  0.114518  0.143148"
      ]
     },
     "execution_count": 29,
     "metadata": {},
     "output_type": "execute_result"
    }
   ],
   "source": [
    "stat_res.results_df"
   ]
  },
  {
   "cell_type": "code",
   "execution_count": 30,
   "id": "660a5c07-c8d5-426e-a9b7-c200fd9b4c0a",
   "metadata": {},
   "outputs": [],
   "source": [
    "from pydeseq2.preprocessing import deseq2_norm"
   ]
  },
  {
   "cell_type": "code",
   "execution_count": 31,
   "id": "662912f4-4545-4f3c-bf3c-35f6d1792887",
   "metadata": {},
   "outputs": [
    {
     "data": {
      "text/plain": [
       "(               gene1      gene2      gene3       gene4      gene5      gene6  \\\n",
       " sample1     9.764187  17.087328   3.254729  105.778695  14.646281   0.000000   \n",
       " sample2     0.841203  37.012930   1.682406   52.995786   9.253233   8.412030   \n",
       " sample3     4.011142   4.011142  11.030640  180.501381  21.058494   3.008356   \n",
       " sample4     0.997847   9.978469   1.995694   99.784691  43.905264   8.980622   \n",
       " sample5     1.198211  13.180323   7.189267  161.758508  19.171379   2.396422   \n",
       " ...              ...        ...        ...         ...        ...        ...   \n",
       " sample96    5.514594  20.482777   2.363397   52.782540   8.665790   3.151196   \n",
       " sample97    1.344090  18.817254   4.032269   95.430357  44.354955   6.720448   \n",
       " sample98   13.515737  48.656654   2.703147   97.313308  14.867311   2.703147   \n",
       " sample99   18.771903  14.600369   3.128651   68.830311  55.272826  11.471719   \n",
       " sample100  33.034037  14.157444   4.719148   66.068073  20.449642  20.449642   \n",
       " \n",
       "                gene7       gene8      gene9     gene10  \n",
       " sample1    13.018916   43.938843  39.870431   2.441047  \n",
       " sample2    58.884207   26.918495  47.948569   7.570827  \n",
       " sample3    28.077993   34.094705  65.181054   2.005571  \n",
       " sample4    27.939714   15.965551  32.928948   8.980622  \n",
       " sample5    38.342757   34.748124  37.144546   5.991056  \n",
       " ...              ...         ...        ...        ...  \n",
       " sample96   32.299763   34.663161  42.541152   0.787799  \n",
       " sample97   25.537701   56.451761  33.602239   5.376358  \n",
       " sample98   89.203866   36.492490  21.625180  12.164163  \n",
       " sample99   33.372272   19.814787  82.387797  11.471719  \n",
       " sample100  29.887938  122.697851  47.191481   7.865247  \n",
       " \n",
       " [100 rows x 10 columns],\n",
       " array([1.22898094, 1.18877375, 0.99722229, 1.00215773, 0.83457743,\n",
       "        1.10730382, 0.8999001 , 1.15343785, 0.68163849, 1.29764537,\n",
       "        1.04491511, 1.45930946, 1.14588441, 0.8049275 , 0.88402672,\n",
       "        0.88402672, 1.32879767, 0.82564657, 1.5978062 , 1.29764537,\n",
       "        1.31940196, 0.69919197, 1.10697146, 1.10214803, 1.19152118,\n",
       "        1.0624452 , 0.98548229, 0.76881428, 0.8939601 , 1.27135863,\n",
       "        1.61101905, 1.55084302, 0.83601298, 0.98213727, 1.27270212,\n",
       "        1.0510719 , 1.76078144, 1.08132885, 1.50390106, 1.0510719 ,\n",
       "        0.80280751, 0.70955247, 1.32602392, 0.98031899, 1.1078077 ,\n",
       "        0.68792508, 0.90429564, 1.56411155, 0.81918767, 1.19364837,\n",
       "        0.79492024, 1.84963565, 0.79694628, 0.79708276, 0.97287297,\n",
       "        1.16248554, 1.50489413, 1.41929759, 1.04612122, 1.05720226,\n",
       "        0.99635345, 1.84224912, 1.03801163, 0.89633874, 0.72952979,\n",
       "        1.33453944, 0.93968061, 1.14016425, 1.59166589, 1.08554239,\n",
       "        0.72370261, 0.91558563, 1.14183629, 1.33857618, 0.94450599,\n",
       "        0.85266438, 1.38005658, 1.01803293, 1.04472988, 1.25372879,\n",
       "        1.77488931, 0.92641092, 1.06341062, 1.05653145, 0.61973175,\n",
       "        0.75569423, 0.69781308, 1.38512317, 0.82165798, 0.81330537,\n",
       "        0.96864497, 1.08526199, 0.78205578, 0.98864287, 1.15322141,\n",
       "        1.26935914, 0.74399805, 0.73987825, 0.95887987, 0.63570796]))"
      ]
     },
     "execution_count": 31,
     "metadata": {},
     "output_type": "execute_result"
    }
   ],
   "source": [
    "deseq2_norm(dds.to_df())"
   ]
  },
  {
   "cell_type": "code",
   "execution_count": 34,
   "id": "28f15518-4490-46a1-92f1-3bcbec4c1ab4",
   "metadata": {},
   "outputs": [],
   "source": [
    "import numpy as np\n",
    "import pandas as pd\n",
    "import matplotlib as mpl\n",
    "import matplotlib.pyplot as plt\n",
    "import seaborn as sns\n",
    "import seaborn.objects as so"
   ]
  },
  {
   "cell_type": "code",
   "execution_count": 56,
   "id": "69834863-1315-46f2-a8e2-2ec5976ba97f",
   "metadata": {},
   "outputs": [
    {
     "data": {
      "image/png": "[encoded data removed]",
      "text/plain": [
       "<Figure size 900x300 with 2 Axes>"
      ]
     },
     "metadata": {},
     "output_type": "display_data"
    }
   ],
   "source": [
    "plt.figure(figsize=(9,3))\n",
    "sns.heatmap(deseq2_norm(dds.to_df())[0].T);"
   ]
  },
  {
   "cell_type": "code",
   "execution_count": 50,
   "id": "02f7f721-0e66-4221-8161-11bfd9aaacb4",
   "metadata": {},
   "outputs": [
    {
     "data": {
      "image/png": "[encoded data removed]",
      "text/plain": [
       "<Figure size 400x700 with 2 Axes>"
      ]
     },
     "metadata": {},
     "output_type": "display_data"
    }
   ],
   "source": [
    "plt.figure(figsize=(4,7))\n",
    "sns.heatmap(deseq2_norm(dds.to_df())[0]);"
   ]
  },
  {
   "cell_type": "code",
   "execution_count": 105,
   "id": "58eeb133-8795-4484-bc3a-2afee8bd6d26",
   "metadata": {},
   "outputs": [
    {
     "data": {
      "image/png": "[encoded data removed]",
      "text/plain": [
       "<Figure size 1000x200 with 4 Axes>"
      ]
     },
     "metadata": {},
     "output_type": "display_data"
    }
   ],
   "source": [
    "# https://python-charts.com/correlation/clustermap-seaborn/\n",
    "sns.clustermap(deseq2_norm(dds.to_df())[0].T,\n",
    "               figsize=(10,2),\n",
    "               col_cluster=False\n",
    "              );"
   ]
  },
  {
   "cell_type": "code",
   "execution_count": 86,
   "id": "bac8a043-7798-4daf-902a-84b778254b04",
   "metadata": {},
   "outputs": [],
   "source": [
    "samples = metadata['condition'] + metadata['group']"
   ]
  },
  {
   "cell_type": "code",
   "execution_count": 87,
   "id": "e76c4047-1bd9-4d58-af9e-8dd1c5b4329d",
   "metadata": {},
   "outputs": [
    {
     "data": {
      "text/plain": [
       "sample1      AX\n",
       "sample2      AY\n",
       "sample3      AX\n",
       "sample4      AY\n",
       "sample5      AX\n",
       "             ..\n",
       "sample96     BY\n",
       "sample97     BX\n",
       "sample98     BY\n",
       "sample99     BX\n",
       "sample100    BY\n",
       "Length: 100, dtype: object"
      ]
     },
     "execution_count": 87,
     "metadata": {},
     "output_type": "execute_result"
    }
   ],
   "source": [
    "samples"
   ]
  },
  {
   "cell_type": "code",
   "execution_count": 92,
   "id": "87099b22-cf21-4c78-acca-4d25b59058b0",
   "metadata": {},
   "outputs": [
    {
     "data": {
      "text/plain": [
       "array(['AX', 'AY', 'BX', 'BY'], dtype=object)"
      ]
     },
     "execution_count": 92,
     "metadata": {},
     "output_type": "execute_result"
    }
   ],
   "source": [
    "samples.unique()"
   ]
  },
  {
   "cell_type": "code",
   "execution_count": null,
   "id": "a725822d-737d-40f8-a78b-feebb478ef2f",
   "metadata": {},
   "outputs": [],
   "source": [
    "lut = dict(zip(samples.unique(), 'rbgy'))\n",
    "col_colors = samples.map(lut)"
   ]
  },
  {
   "cell_type": "code",
   "execution_count": 106,
   "id": "ce9656b1-e9d4-492c-869d-078667617d32",
   "metadata": {},
   "outputs": [
    {
     "data": {
      "image/png": "[encoded data removed]",
      "text/plain": [
       "<Figure size 1000x300 with 5 Axes>"
      ]
     },
     "metadata": {},
     "output_type": "display_data"
    }
   ],
   "source": [
    "sns.clustermap(deseq2_norm(dds.to_df())[0].T,\n",
    "               figsize=(10,3),\n",
    "               col_cluster=False,\n",
    "               col_colors=col_colors\n",
    "              );"
   ]
  },
  {
   "cell_type": "code",
   "execution_count": 123,
   "id": "b28e4a0b-0971-4581-9440-a139666a52de",
   "metadata": {},
   "outputs": [],
   "source": [
    "lut1 = dict(zip(metadata['condition'].unique(), 'rb'))\n",
    "col_colors1 = metadata['condition'].map(lut1)"
   ]
  },
  {
   "cell_type": "code",
   "execution_count": 124,
   "id": "f75fef2d-fc55-4a4f-a229-356b61896c92",
   "metadata": {},
   "outputs": [],
   "source": [
    "lut2 = dict(zip(metadata['group'].unique(), 'gy'))\n",
    "col_colors2 = metadata['group'].map(lut2)"
   ]
  },
  {
   "cell_type": "code",
   "execution_count": 125,
   "id": "75fb700f-9dba-4739-9441-d6f390d2a212",
   "metadata": {},
   "outputs": [],
   "source": [
    "col_colors = pd.concat([col_colors1, col_colors2], axis=1)"
   ]
  },
  {
   "cell_type": "code",
   "execution_count": 132,
   "id": "1a7824d3-1132-45f5-878f-b38604436302",
   "metadata": {},
   "outputs": [
    {
     "data": {
      "image/png": "[encoded data removed]",
      "text/plain": [
       "<Figure size 1000x300 with 5 Axes>"
      ]
     },
     "metadata": {},
     "output_type": "display_data"
    }
   ],
   "source": [
    "sns.clustermap(deseq2_norm(dds.to_df())[0].T,\n",
    "               figsize=(10,3),\n",
    "               col_colors=col_colors\n",
    "              );"
   ]
  },
  {
   "cell_type": "code",
   "execution_count": null,
   "id": "c81947bd-7777-43d4-8f8d-99088fd68957",
   "metadata": {},
   "outputs": [],
   "source": [
    "from matplotlib.patches import Patch"
   ]
  },
  {
   "cell_type": "code",
   "execution_count": 163,
   "id": "d168fd4e-9ee3-4c0b-9a85-b2abae294ff5",
   "metadata": {},
   "outputs": [
    {
     "data": {
      "image/png": "[encoded data removed]",
      "text/plain": [
       "<Figure size 1000x300 with 4 Axes>"
      ]
     },
     "metadata": {},
     "output_type": "display_data"
    }
   ],
   "source": [
    "# https://matplotlib.org/3.2.1/tutorials/intermediate/legend_guide.html\n",
    "ax = sns.clustermap(deseq2_norm(dds.to_df())[0].T,\n",
    "               figsize=(10,3),\n",
    "               col_cluster=False,\n",
    "               row_cluster=False,\n",
    "               cbar_pos=None,\n",
    "               dendrogram_ratio=0.05,\n",
    "               col_colors=col_colors\n",
    "              );\n",
    "handles = [Patch(facecolor=lut1[name]) for name in lut1]\n",
    "first_legend = plt.legend(handles, lut1, title='Condition',\n",
    "           bbox_to_anchor=(0.05, 1), bbox_transform=plt.gcf().transFigure, loc='upper right')\n",
    "ax = plt.gca().add_artist(first_legend)\n",
    "handles = [Patch(facecolor=lut2[name]) for name in lut2]\n",
    "plt.legend(handles, lut2, title='Group',\n",
    "           bbox_to_anchor=(0.05, 0.7), bbox_transform=plt.gcf().transFigure, loc='upper right')\n",
    "plt.show()"
   ]
  },
  {
   "cell_type": "code",
   "execution_count": null,
   "id": "818aa559-726f-48a1-86ec-a8d623238b5e",
   "metadata": {},
   "outputs": [],
   "source": []
  },
  {
   "cell_type": "code",
   "execution_count": 185,
   "id": "6e965c65-c720-45fd-bf92-1d85280e7949",
   "metadata": {},
   "outputs": [],
   "source": [
    "# https://www.youtube.com/watch?v=Lsue2gEM9D0&t=609s&ab_channel=StatQuestwithJoshStarmer\n",
    "# https://github.com/StatQuest/pca_demo/blob/master/pca_demo.py\n",
    "from sklearn.decomposition import PCA\n",
    "from sklearn import preprocessing"
   ]
  },
  {
   "cell_type": "code",
   "execution_count": 187,
   "id": "102ab716-53e1-42f7-af2b-15e6e8938d64",
   "metadata": {},
   "outputs": [
    {
     "data": {
      "text/plain": [
       "sample1      A\n",
       "sample2      A\n",
       "sample3      A\n",
       "sample4      A\n",
       "sample5      A\n",
       "            ..\n",
       "sample96     B\n",
       "sample97     B\n",
       "sample98     B\n",
       "sample99     B\n",
       "sample100    B\n",
       "Name: condition, Length: 100, dtype: object"
      ]
     },
     "execution_count": 187,
     "metadata": {},
     "output_type": "execute_result"
    }
   ],
   "source": [
    "metadata['condition']"
   ]
  },
  {
   "cell_type": "code",
   "execution_count": 170,
   "id": "95222027-17d0-484e-8497-af12dcc92717",
   "metadata": {},
   "outputs": [],
   "source": [
    "scaled_data = preprocessing.scale(deseq2_norm(dds.to_df())[0])\n",
    "pca = PCA()"
   ]
  },
  {
   "cell_type": "code",
   "execution_count": 173,
   "id": "32762fac-2630-49b5-b529-618f8fb7a3ae",
   "metadata": {},
   "outputs": [],
   "source": [
    "pca.fit(scaled_data);"
   ]
  },
  {
   "cell_type": "code",
   "execution_count": 175,
   "id": "026ccee2-29b3-4fdf-a0ef-4cd497b16f41",
   "metadata": {},
   "outputs": [],
   "source": [
    "pca_data = pca.transform(scaled_data)"
   ]
  },
  {
   "cell_type": "code",
   "execution_count": 177,
   "id": "2bbefd71-fb00-48ec-916a-2c6feff32926",
   "metadata": {},
   "outputs": [],
   "source": [
    "per_var = np.round(pca.explained_variance_ratio_* 100, decimals=1)\n",
    "labels = ['PC' + str(x) for x in range(1, len(per_var)+1)]"
   ]
  },
  {
   "cell_type": "code",
   "execution_count": 178,
   "id": "e827a47f-487d-4164-8250-30f1b7aba994",
   "metadata": {},
   "outputs": [
    {
     "data": {
      "image/png": "[encoded data removed]",
      "text/plain": [
       "<Figure size 640x480 with 1 Axes>"
      ]
     },
     "metadata": {},
     "output_type": "display_data"
    }
   ],
   "source": [
    "plt.bar(x=range(1,len(per_var)+1), height=per_var, tick_label=labels)\n",
    "plt.ylabel('Percentage of Explained Variance')\n",
    "plt.xlabel('Principal Component')\n",
    "plt.title('Scree Plot')\n",
    "plt.show()"
   ]
  },
  {
   "cell_type": "code",
   "execution_count": 198,
   "id": "95cfbd1e-8b12-4705-8eff-8da666c24b55",
   "metadata": {},
   "outputs": [],
   "source": [
    "pca_df = pd.DataFrame(pca_data, index=metadata.index + metadata['condition'], columns=labels)"
   ]
  },
  {
   "cell_type": "code",
   "execution_count": 199,
   "id": "8b6ec6c1-26f4-449d-9c54-74f170f86802",
   "metadata": {},
   "outputs": [
    {
     "data": {
      "text/plain": [
       "Index(['sample1A', 'sample2A', 'sample3A', 'sample4A', 'sample5A', 'sample6A',\n",
       "       'sample7A', 'sample8A', 'sample9A', 'sample10A', 'sample11A',\n",
       "       'sample12A', 'sample13A', 'sample14A', 'sample15A', 'sample16A',\n",
       "       'sample17A', 'sample18A', 'sample19A', 'sample20A', 'sample21A',\n",
       "       'sample22A', 'sample23A', 'sample24A', 'sample25A', 'sample26A',\n",
       "       'sample27A', 'sample28A', 'sample29A', 'sample30A', 'sample31A',\n",
       "       'sample32A', 'sample33A', 'sample34A', 'sample35A', 'sample36A',\n",
       "       'sample37A', 'sample38A', 'sample39A', 'sample40A', 'sample41A',\n",
       "       'sample42A', 'sample43A', 'sample44A', 'sample45A', 'sample46A',\n",
       "       'sample47A', 'sample48A', 'sample49A', 'sample50A', 'sample51B',\n",
       "       'sample52B', 'sample53B', 'sample54B', 'sample55B', 'sample56B',\n",
       "       'sample57B', 'sample58B', 'sample59B', 'sample60B', 'sample61B',\n",
       "       'sample62B', 'sample63B', 'sample64B', 'sample65B', 'sample66B',\n",
       "       'sample67B', 'sample68B', 'sample69B', 'sample70B', 'sample71B',\n",
       "       'sample72B', 'sample73B', 'sample74B', 'sample75B', 'sample76B',\n",
       "       'sample77B', 'sample78B', 'sample79B', 'sample80B', 'sample81B',\n",
       "       'sample82B', 'sample83B', 'sample84B', 'sample85B', 'sample86B',\n",
       "       'sample87B', 'sample88B', 'sample89B', 'sample90B', 'sample91B',\n",
       "       'sample92B', 'sample93B', 'sample94B', 'sample95B', 'sample96B',\n",
       "       'sample97B', 'sample98B', 'sample99B', 'sample100B'],\n",
       "      dtype='object')"
      ]
     },
     "execution_count": 199,
     "metadata": {},
     "output_type": "execute_result"
    }
   ],
   "source": [
    "pca_df.index"
   ]
  },
  {
   "cell_type": "code",
   "execution_count": 201,
   "id": "fd221408-403c-49df-882c-1fa277c5b236",
   "metadata": {},
   "outputs": [],
   "source": [
    "samples = metadata['condition'] + metadata['group']\n",
    "lut = dict(zip(samples.unique(), 'rbgy'))\n",
    "colors = samples.map(lut)"
   ]
  },
  {
   "cell_type": "code",
   "execution_count": 210,
   "id": "b7d7eac6-e1b0-4162-979e-4ede9d9c5b48",
   "metadata": {},
   "outputs": [
    {
     "data": {
      "image/png": "[encoded data removed]",
      "text/plain": [
       "<Figure size 640x480 with 1 Axes>"
      ]
     },
     "metadata": {},
     "output_type": "display_data"
    }
   ],
   "source": [
    "# https://matplotlib.org/stable/api/_as_gen/matplotlib.pyplot.scatter.html\n",
    "plt.scatter(pca_df.PC1, pca_df.PC2, c=colors)\n",
    "plt.title('My PCA Graph')\n",
    "plt.xlabel('PC1 - {0}%'.format(per_var[0]))\n",
    "plt.ylabel('PC2 - {0}%'.format(per_var[1]))\n",
    "# for sample in pca_df.index:\n",
    "#     plt.annotate(sample, (pca_df.PC1.loc[sample], pca_df.PC2.loc[sample]))\n",
    "handles = [Patch(facecolor=lut[name]) for name in lut]\n",
    "plt.legend(handles, lut, title='ConditionGroup',\n",
    "           bbox_to_anchor=(0.9, 0.85), bbox_transform=plt.gcf().transFigure, loc='upper right')\n",
    "plt.show()"
   ]
  },
  {
   "cell_type": "code",
   "execution_count": 213,
   "id": "868e15e0-a6eb-4989-8e02-047a03c6e127",
   "metadata": {},
   "outputs": [],
   "source": [
    "genes = list(deseq2_norm(dds.to_df())[0])"
   ]
  },
  {
   "cell_type": "code",
   "execution_count": 214,
   "id": "403da19e-6be3-4ca6-acce-08b5960c15b4",
   "metadata": {},
   "outputs": [
    {
     "name": "stdout",
     "output_type": "stream",
     "text": [
      "gene10    0.387309\n",
      "gene9     0.379995\n",
      "gene5     0.369794\n",
      "gene3    -0.368882\n",
      "gene1     0.362584\n",
      "gene4    -0.353063\n",
      "gene2    -0.282774\n",
      "gene8     0.240080\n",
      "gene7    -0.196668\n",
      "gene6     0.019373\n",
      "dtype: float64\n"
     ]
    }
   ],
   "source": [
    "## get the name of the top 10 measurements (genes) that contribute\n",
    "## most to pc1.\n",
    "## first, get the loading scores\n",
    "loading_scores = pd.Series(pca.components_[0], index=genes)\n",
    "## now sort the loading scores based on their magnitude\n",
    "sorted_loading_scores = loading_scores.abs().sort_values(ascending=False)\n",
    " \n",
    "# get the names of the top 10 genes\n",
    "top_10_genes = sorted_loading_scores[0:10].index.values\n",
    " \n",
    "## print the gene names and their scores (and +/- sign)\n",
    "print(loading_scores[top_10_genes])"
   ]
  }
 ],
 "metadata": {
  "kernelspec": {
   "display_name": "Python 3 (ipykernel)",
   "language": "python",
   "name": "python3"
  },
  "language_info": {
   "codemirror_mode": {
    "name": "ipython",
    "version": 3
   },
   "file_extension": ".py",
   "mimetype": "text/x-python",
   "name": "python",
   "nbconvert_exporter": "python",
   "pygments_lexer": "ipython3",
   "version": "3.12.0"
  }
 },
 "nbformat": 4,
 "nbformat_minor": 5
}
